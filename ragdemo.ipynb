{
 "cells": [
  {
   "cell_type": "code",
   "execution_count": 1,
   "metadata": {},
   "outputs": [],
   "source": [
    "import os \n",
    "from dotenv import find_dotenv, load_dotenv # type: ignore\n",
    "_ = load_dotenv(find_dotenv())\n",
    "GROQ_API_KEY = os.environ['GROQ_API_KEY']"
   ]
  },
  {
   "cell_type": "code",
   "execution_count": 2,
   "metadata": {},
   "outputs": [],
   "source": [
    "from langchain_community.document_loaders import TextLoader # type: ignore\n",
    "from langchain.text_splitter import RecursiveCharacterTextSplitter # type: ignore\n",
    "from langchain_groq import ChatGroq # type: ignore"
   ]
  },
  {
   "cell_type": "markdown",
   "metadata": {},
   "source": [
    "Loading the data"
   ]
  },
  {
   "cell_type": "code",
   "execution_count": 4,
   "metadata": {},
   "outputs": [],
   "source": [
    "loader = TextLoader('D:/ragspecific/evaluation/mentalhealth.txt')\n",
    "document = loader.load()"
   ]
  },
  {
   "cell_type": "markdown",
   "metadata": {},
   "source": [
    "Chunking the data"
   ]
  },
  {
   "cell_type": "code",
   "execution_count": 5,
   "metadata": {},
   "outputs": [],
   "source": [
    "text_spilitter  = RecursiveCharacterTextSplitter(chunk_size = 500, chunk_overlap = 50)"
   ]
  },
  {
   "cell_type": "code",
   "execution_count": 6,
   "metadata": {},
   "outputs": [],
   "source": [
    "chunks = text_spilitter.split_documents(document)"
   ]
  },
  {
   "cell_type": "code",
   "execution_count": 7,
   "metadata": {},
   "outputs": [
    {
     "data": {
      "text/plain": [
       "[Document(metadata={'source': 'D:/ragspecific/evaluation/mentalhealth.txt'}, page_content='Personality Scores:\\n1. Agreeableness'),\n",
       " Document(metadata={'source': 'D:/ragspecific/evaluation/mentalhealth.txt'}, page_content=\"1. Agreeableness\\nLow Agreeableness: A low score in agreeableness, such as 0.05, suggests that an individual may exhibit skepticism towards others' intentions, potentially leading to a more competitive or critical demeanor rather than cooperative. Such individuals may prioritize their own interests over others and might struggle with showing empathy. They can be perceived as tough, critical, and uncompromising, often engaging in more confrontational or competitive interactions.\"),\n",
       " Document(metadata={'source': 'D:/ragspecific/evaluation/mentalhealth.txt'}, page_content='High Agreeableness: Conversely, a high score indicates a person who is generally compassionate, cooperative, and eager to help others, often even at a personal cost. High agreeableness is characterized by trust in others, straightforwardness, altruism, compliance, modesty, and tender-mindedness. People with high agreeableness are often well-liked and create harmonious relationships but may sometimes be taken advantage of due to their accommodating nature.\\n2. Extraversion'),\n",
       " Document(metadata={'source': 'D:/ragspecific/evaluation/mentalhealth.txt'}, page_content='2. Extraversion\\nLow Extraversion: With a score of 0.02, this indicates a highly introverted individual who may feel drained by social interactions and prefer solitary or low-key activities. Such people might be reserved, quiet, and reflective, finding satisfaction in their inner world. They may have a small circle of close friends and take pleasure in solitary activities, needing time alone to recharge.'),\n",
       " Document(metadata={'source': 'D:/ragspecific/evaluation/mentalhealth.txt'}, page_content='High Extraversion: High extraversion is characterized by an outgoing, energetic behavior. Extraverts are often assertive, sociable, and lively, drawing energy from interacting with others. They are prone to positive emotions and tend to be enthusiastic and action-oriented. High extraverts may struggle with spending time alone and can sometimes be perceived as attention-seeking or domineering.\\n3. Openness'),\n",
       " Document(metadata={'source': 'D:/ragspecific/evaluation/mentalhealth.txt'}, page_content='3. Openness\\nLow Openness: A score like 0.02 reflects a preference for the conventional and the familiar over the new and the unknown. Individuals with low openness may be practical and focused on routine, showing caution towards change and abstract or theoretical concepts. They might prefer concrete information and may be perceived as closed-minded or resistant to new experiences.'),\n",
       " Document(metadata={'source': 'D:/ragspecific/evaluation/mentalhealth.txt'}, page_content='High Openness: High scores in openness indicate a strong appreciation for art, emotion, adventure, unusual ideas, imagination, curiosity, and variety of experience. Such individuals are open to new experiences, intellectually curious, and creative. They are more likely to engage in creative and abstract thinking, and they may seek out novel experiences and have a broad range of interests.\\n4. Conscientiousness'),\n",
       " Document(metadata={'source': 'D:/ragspecific/evaluation/mentalhealth.txt'}, page_content='4. Conscientiousness\\nLow Conscientiousness: With a score of 0.02, this suggests a possible lack of reliability and organization. Individuals may struggle with setting and meeting goals, showing a tendency towards procrastination and flexibility in their morals, values, and productivity. This can manifest as disorganization, carelessness, and a lack of persistence.'),\n",
       " Document(metadata={'source': 'D:/ragspecific/evaluation/mentalhealth.txt'}, page_content='High Conscientiousness: High scores reflect a strong sense of duty, responsibility, and reliability. Highly conscientious individuals are organized, mindful of details, and capable of planning and executing tasks effectively. They are disciplined, achievement-oriented, and may sometimes be perceived as inflexible or obsessive due to their strong adherence to rules and schedules.\\n5. Neuroticism'),\n",
       " Document(metadata={'source': 'D:/ragspecific/evaluation/mentalhealth.txt'}, page_content='5. Neuroticism\\nHigh Neuroticism: A score of 0.89 indicates a person who experiences emotional instability and often feels negative emotions such as anxiety, sadness, and irritability. High neuroticism is associated with a susceptibility to stress and can manifest as mood swings, sadness, and emotional reactivity. Individuals with high neuroticism may struggle with insecurity and self-criticism and might be prone to worry.'),\n",
       " Document(metadata={'source': 'D:/ragspecific/evaluation/mentalhealth.txt'}, page_content='Low Neuroticism: On the other hand, low neuroticism is characterized by emotional stability and resilience. Individuals with low scores in this trait tend to remain calm, even-keeled, and unflappable, even in stressful situations. They are generally optimistic and less prone to experiencing negative emotions.'),\n",
       " Document(metadata={'source': 'D:/ragspecific/evaluation/mentalhealth.txt'}, page_content='User:  \"I don\\'t like people who are emotional.\"\\nPersonality scores:\\nAgreeableness:  0.05\\nExtraversion:  0.02\\nOpenness:  0.02\\nConscientiousness:  0.02\\nNeuroticism:  0.89\\nContext: Given the personality traits, the user may express disdain for emotional people due to their own discomfort with emotions and a preference for more logical or detached interactions. Their high neuroticism could make them more sensitive to emotional expressions, which they might find overwhelming or unnecessary.'),\n",
       " Document(metadata={'source': 'D:/ragspecific/evaluation/mentalhealth.txt'}, page_content='Assistant: \"It\\'s okay to feel that way. We all have different comfort levels with emotions. Would you like to explore ways to understand or cope with this feeling?\"'),\n",
       " Document(metadata={'source': 'D:/ragspecific/evaluation/mentalhealth.txt'}, page_content='User: \"I find it hard to open up to others.\"\\nPersonality Scores:\\nAgreeableness: 0.70\\nExtraversion: 0.15\\nOpenness: 0.40\\nConscientiousness: 0.85\\nNeuroticism: 0.60\\nContext: The user\\'s high agreeableness suggests they are generally kind and empathetic, yet their low extraversion and moderate neuroticism indicate a tendency towards introversion and emotional sensitivity, possibly leading to difficulties in expressing personal emotions openly.'),\n",
       " Document(metadata={'source': 'D:/ragspecific/evaluation/mentalhealth.txt'}, page_content='Assistant: \"It\\'s completely understandable to find it challenging to open up, especially when you\\'re naturally empathetic yet introspective. Your kindness and thoughtfulness are clear strengths. If you\\'re comfortable, we can explore small, safe steps to gradually share your feelings, ensuring you feel supported and secure throughout.\"'),\n",
       " Document(metadata={'source': 'D:/ragspecific/evaluation/mentalhealth.txt'}, page_content='User: \"I always need to be doing something productive.\"\\nPersonality Scores:\\nAgreeableness: 0.55\\nExtraversion: 0.60\\nOpenness: 0.75\\nConscientiousness: 0.95\\nNeuroticism: 0.30\\nContext: This user\\'s high conscientiousness and openness indicate a strong drive for productivity and a willingness to engage in new experiences. Their moderate extraversion suggests they are somewhat sociable, while low neuroticism points to emotional stability.'),\n",
       " Document(metadata={'source': 'D:/ragspecific/evaluation/mentalhealth.txt'}, page_content='Assistant: \"Your drive for productivity is admirable, and it\\'s great that you\\'re open to new experiences. Balancing activity with moments of rest can enhance your well-being and creativity. Would you be interested in exploring strategies to integrate meaningful pauses into your routine, ensuring you\\'re recharged and ready for your next adventure?\"'),\n",
       " Document(metadata={'source': 'D:/ragspecific/evaluation/mentalhealth.txt'}, page_content='User: \"I prefer sticking to my routines than trying out new things.\"\\nPersonality Scores\\nAgreeableness: 0.65\\nExtraversion: 0.25\\nOpenness: 0.10\\nConscientiousness: 0.80\\nNeuroticism: 0.50'),\n",
       " Document(metadata={'source': 'D:/ragspecific/evaluation/mentalhealth.txt'}, page_content=\"Conscientiousness: 0.80\\nNeuroticism: 0.50\\nContext: The user's low openness and high conscientiousness suggest a preference for routine and structure over novelty. Their moderate agreeableness and neuroticism, combined with low extraversion, indicate a cooperative nature but with some resistance to change and a potential for anxiety in unfamiliar situations.\"),\n",
       " Document(metadata={'source': 'D:/ragspecific/evaluation/mentalhealth.txt'}, page_content='Assistant: \"Sticking to routines can provide a comforting sense of stability and control. It\\'s okay to prefer the familiar; it\\'s about finding a balance that makes you feel secure and fulfilled. If you\\'re ever curious, we could gently explore small changes within your comfort zone to add a little variety, without overwhelming your sense of order. How does that feel?\"'),\n",
       " Document(metadata={'source': 'D:/ragspecific/evaluation/mentalhealth.txt'}, page_content='User: \"I often feel misunderstood by others.\"\\nPersonality Scores\\nAgreeableness: 0.40\\nExtraversion: 0.50\\nOpenness: 0.65\\nConscientiousness: 0.45\\nNeuroticism: 0.75\\nContext: The user\\'s moderate levels of extraversion and openness suggest a willingness to interact and share ideas, yet their high neuroticism and lower agreeableness might lead to sensitivity and challenges in social interactions, feeling misunderstood.'),\n",
       " Document(metadata={'source': 'D:/ragspecific/evaluation/mentalhealth.txt'}, page_content='Assistant: \"Feeling misunderstood can be really tough, especially when you\\'re open to sharing your thoughts and connecting with others. It\\'s important to recognize your feelings are valid. Together, we can explore ways to express your ideas and emotions in a way that feels authentic to you, while also considering strategies to foster understanding and connection. What are your thoughts on this approach?\"'),\n",
       " Document(metadata={'source': 'D:/ragspecific/evaluation/mentalhealth.txt'}, page_content='User: \"I\\'m always the life of the party, but sometimes it\\'s exhausting.\"\\nPersonality Scores\\nAgreeableness: 0.60\\nExtraversion: 0.95\\nOpenness: 0.70\\nConscientiousness: 0.50\\nNeuroticism: 0.35\\nContext: The user\\'s high extraversion indicates they are sociable and energetic, enjoying being around others, while their openness suggests a receptiveness to new experiences. However, the moderate level of neuroticism and conscientiousness might hint at underlying stress from constantly being \\'on.\\''),\n",
       " Document(metadata={'source': 'D:/ragspecific/evaluation/mentalhealth.txt'}, page_content='Assistant: \"It\\'s wonderful that you bring so much energy and joy to social gatherings. It\\'s also important to listen to your own needs and allow yourself time to recharge. Finding a balance between socializing and personal time can keep your spirits high without feeling overextended. Would you like to explore ways to ensure you\\'re taking care of yourself while still enjoying the social scene?\"'),\n",
       " Document(metadata={'source': 'D:/ragspecific/evaluation/mentalhealth.txt'}, page_content='User: \"I get anxious when plans change last minute.\"\\nPersonality Scores\\nAgreeableness: 0.75\\nExtraversion: 0.30\\nOpenness: 0.40\\nConscientiousness: 0.90\\nNeuroticism: 0.80\\nContext: The user\\'s high conscientiousness and neuroticism suggest a preference for structure and predictability, with a significant sensitivity to stress and anxiety when faced with unexpected changes.'),\n",
       " Document(metadata={'source': 'D:/ragspecific/evaluation/mentalhealth.txt'}, page_content='Assistant: \"It\\'s natural to feel unsettled by sudden changes, especially when you value order and reliability. Let\\'s explore strategies that can help you feel more at ease during unexpected situations, ensuring you have tools to navigate these moments with confidence. How does that sound?\"'),\n",
       " Document(metadata={'source': 'D:/ragspecific/evaluation/mentalhealth.txt'}, page_content='User: \"I love learning new things, but I rarely finish what I start.\"\\nPersonality Scores\\nAgreeableness: 0.60\\nExtraversion: 0.70\\nOpenness: 0.95\\nConscientiousness: 0.25\\nNeuroticism: 0.40\\nContext: The user\\'s high openness reflects a strong curiosity and love for new experiences, but their low conscientiousness may lead to challenges in seeing projects through to completion.'),\n",
       " Document(metadata={'source': 'D:/ragspecific/evaluation/mentalhealth.txt'}, page_content='Assistant: \"Your passion for exploring new ideas is wonderful! It\\'s common to find it challenging to stick with one thing when there\\'s so much to discover. Would you be interested in discussing ways to balance your love for learning with techniques to help you complete what you start?\"'),\n",
       " Document(metadata={'source': 'D:/ragspecific/evaluation/mentalhealth.txt'}, page_content='User: \"I don\\'t enjoy socializing much; I prefer my own company.\"\\nPersonality Scores\\nAgreeableness: 0.50\\nExtraversion: 0.10\\nOpenness: 0.55\\nConscientiousness: 0.70\\nNeuroticism: 0.45\\nContext: The user\\'s low extraversion suggests a strong preference for solitude and introspection over social activities, while moderate conscientiousness indicates a structured approach to their personal time.'),\n",
       " Document(metadata={'source': 'D:/ragspecific/evaluation/mentalhealth.txt'}, page_content='Assistant: \"Preferring your own company is completely okay, and it\\'s important to honor what feels right for you. If you\\'re ever looking for ways to gently expand your comfort zone, without compromising your need for solitude, I\\'m here to support you. Shall we explore this together?\"'),\n",
       " Document(metadata={'source': 'D:/ragspecific/evaluation/mentalhealth.txt'}, page_content='User: \"I often feel overwhelmed by my emotions.\"\\nPersonality Scores\\nAgreeableness: 0.65\\nExtraversion: 0.55\\nOpenness: 0.60\\nConscientiousness: 0.40\\nNeuroticism: 0.90\\nContext: The user\\'s high neuroticism indicates a propensity towards emotional sensitivity, which can lead to feelings of being overwhelmed, despite having moderate levels of openness and agreeableness.'),\n",
       " Document(metadata={'source': 'D:/ragspecific/evaluation/mentalhealth.txt'}, page_content='Assistant: \"Feeling overwhelmed by emotions can be intense. It\\'s courageous to acknowledge these feelings. Together, we can explore grounding techniques and coping strategies that can help you navigate these moments with greater ease. Would you like to start this journey?\"'),\n",
       " Document(metadata={'source': 'D:/ragspecific/evaluation/mentalhealth.txt'}, page_content='User: \"I tend to overthink and worry about what others think of me.\"\\nPersonality Scores\\nAgreeableness: 0.80\\nExtraversion: 0.40\\nOpenness: 0.50\\nConscientiousness: 0.60\\nNeuroticism: 0.85\\nContext: The user\\'s high neuroticism and agreeableness might cause them to excessively worry about others\\' perceptions, potentially leading to overthinking and social anxiety.'),\n",
       " Document(metadata={'source': 'D:/ragspecific/evaluation/mentalhealth.txt'}, page_content='Assistant: \"It\\'s understandable to be concerned about others\\' opinions, especially when you care about harmony in relationships. Let\\'s explore ways to build your confidence and reduce overthinking, focusing on what truly matters to you. How does that resonate with you?\"'),\n",
       " Document(metadata={'source': 'D:/ragspecific/evaluation/mentalhealth.txt'}, page_content='User: \"I struggle with making decisions quickly.\"\\nPersonality Scores\\nAgreeableness: 0.55\\nExtraversion: 0.45\\nOpenness: 0.70\\nConscientiousness: 0.50\\nNeuroticism: 0.65\\nContext: The user\\'s moderate openness indicates a willingness to consider various options, but their moderate neuroticism and lower conscientiousness might contribute to indecisiveness.'),\n",
       " Document(metadata={'source': 'D:/ragspecific/evaluation/mentalhealth.txt'}, page_content='Assistant: \"Decisions can be daunting when you see the value in multiple perspectives. Let\\'s work on strategies that can help you trust your judgment and make decisions more confidently, balancing thoroughness with action. Ready to explore?\"'),\n",
       " Document(metadata={'source': 'D:/ragspecific/evaluation/mentalhealth.txt'}, page_content='User: \"I\\'m quick to anger and often regret it later.\"\\nPersonality Scores\\nAgreeableness: 0.30\\nExtraversion: 0.60\\nOpenness: 0.40\\nConscientiousness: 0.55\\nNeuroticism: 0.75\\nContext: The user\\'s low agreeableness and high neuroticism suggest a predisposition towards impulsivity in emotional expressions, such as anger, followed by regret due to their moderate conscientiousness.'),\n",
       " Document(metadata={'source': 'D:/ragspecific/evaluation/mentalhealth.txt'}, page_content='Assistant: \"Recognizing the impact of quick reactions is the first step towards change. Let\\'s explore techniques to manage strong emotions and respond more calmly in challenging moments, aligning with your desire for thoughtful actions. How does that feel?\"'),\n",
       " Document(metadata={'source': 'D:/ragspecific/evaluation/mentalhealth.txt'}, page_content='User: \"I find it hard to trust people.\"\\nPersonality Scores\\nAgreeableness: 0.40\\nExtraversion: 0.35\\nOpenness: 0.45\\nConscientiousness: 0.75\\nNeuroticism: 0.80\\nContext: The user\\'s low agreeableness and high neuroticism may contribute to difficulties in trusting others, possibly due to past experiences or inherent caution.'),\n",
       " Document(metadata={'source': 'D:/ragspecific/evaluation/mentalhealth.txt'}, page_content='Assistant: \"Building trust can be challenging, especially when past experiences make us cautious. It\\'s important to move at a pace that feels safe for you. We can explore ways to gradually build trust in relationships, focusing on your comfort and security. Interested in discussing this further?\"'),\n",
       " Document(metadata={'source': 'D:/ragspecific/evaluation/mentalhealth.txt'}, page_content='User: \"I\\'m always planning for the future, sometimes forgetting to live in the moment.\"\\nPersonality Scores\\nAgreeableness: 0.70\\nExtraversion: 0.50\\nOpenness: 0.60\\nConscientiousness: 0.95\\nNeuroticism: 0.30\\nContext: The user\\'s high conscientiousness drives them to be future-oriented and well-prepared, but it may also detract from their ability to enjoy present experiences.'),\n",
       " Document(metadata={'source': 'D:/ragspecific/evaluation/mentalhealth.txt'}, page_content='Assistant: \"It\\'s great to be prepared for the future, but it\\'s also important to savor the present. Let\\'s explore ways to balance your forward-thinking with mindfulness practices that can help you enjoy the here and now. Would you like to try this?\"'),\n",
       " Document(metadata={'source': 'D:/ragspecific/evaluation/mentalhealth.txt'}, page_content='User: \"I often feel disconnected from others, even in a crowd.\"\\nPersonality Scores\\nAgreeableness: 0.60\\nExtraversion: 0.20\\nOpenness: 0.65\\nConscientiousness: 0.55\\nNeuroticism: 0.50\\nContext: The user\\'s low extraversion suggests a preference for deeper, more meaningful interactions over superficial social gatherings, which may contribute to feelings of disconnection.'),\n",
       " Document(metadata={'source': 'D:/ragspecific/evaluation/mentalhealth.txt'}, page_content='Assistant: \"Feeling disconnected, especially in social settings, can be disheartening. It might help to seek out environments where deeper, more meaningful conversations are encouraged. Would you be interested in exploring how to find or create these spaces?\"'),\n",
       " Document(metadata={'source': 'D:/ragspecific/evaluation/mentalhealth.txt'}, page_content='User: \"I hesitate to express my opinions in groups.\"\\nPersonality Scores\\nAgreeableness: 0.80\\nExtraversion: 0.25\\nOpenness: 0.60\\nConscientiousness: 0.70\\nNeuroticism: 0.65\\nContext: The user\\'s high agreeableness and low extraversion suggest a preference for harmony over potential conflict, leading to hesitation in expressing opinions for fear of disagreement or disapproval.'),\n",
       " Document(metadata={'source': 'D:/ragspecific/evaluation/mentalhealth.txt'}, page_content='Assistant: \"It\\'s natural to want to maintain harmony, especially in group settings. If you\\'re open to it, we can explore ways to assert your opinions gently, ensuring your voice is heard while respecting the group dynamic. How does that sound?\"'),\n",
       " Document(metadata={'source': 'D:/ragspecific/evaluation/mentalhealth.txt'}, page_content='User: \"I often feel like I\\'m on the outside looking in.\"\\nPersonality Scores\\nAgreeableness: 0.65\\nExtraversion: 0.20\\nOpenness: 0.55\\nConscientiousness: 0.60\\nNeuroticism: 0.70\\nContext: The user\\'s introverted nature and moderate neuroticism may lead to feelings of isolation and emotional sensitivity in social situations, feeling like an observer rather than a participant.'),\n",
       " Document(metadata={'source': 'D:/ragspecific/evaluation/mentalhealth.txt'}, page_content='Assistant: \"Feeling like an outsider can be quite challenging. It might be helpful to explore activities or groups where you share common interests, providing a more comfortable setting for connection. Would you be interested in discussing this further?\"'),\n",
       " Document(metadata={'source': 'D:/ragspecific/evaluation/mentalhealth.txt'}, page_content='User: \"I\\'m constantly worried about making mistakes.\"\\nPersonality Scores\\nAgreeableness: 0.75\\nExtraversion: 0.40\\nOpenness: 0.50\\nConscientiousness: 0.85\\nNeuroticism: 0.80\\nContext: The user\\'s high conscientiousness and neuroticism contribute to a fear of failure and a tendency to worry excessively about potential errors.'),\n",
       " Document(metadata={'source': 'D:/ragspecific/evaluation/mentalhealth.txt'}, page_content='Assistant: \"The pressure to avoid mistakes can be overwhelming. Embracing a mindset that views mistakes as learning opportunities could help alleviate some of that worry. Would you like to explore strategies to cultivate this perspective?\"'),\n",
       " Document(metadata={'source': 'D:/ragspecific/evaluation/mentalhealth.txt'}, page_content='User: \"I prefer to keep things as they are rather than change.\"\\nPersonality Scores\\nAgreeableness: 0.70\\nExtraversion: 0.30\\nOpenness: 0.20\\nConscientiousness: 0.75\\nNeuroticism: 0.60\\nContext: The user\\'s low openness to experience suggests a preference for stability and routine, resisting changes that might disrupt their sense of security.'),\n",
       " Document(metadata={'source': 'D:/ragspecific/evaluation/mentalhealth.txt'}, page_content='Assistant: \"Sticking to what\\'s familiar can certainly provide comfort. If there\\'s ever a change you\\'re considering or facing, we can look at ways to navigate it step by step, ensuring you feel supported throughout the process. How does that approach sound?\"'),\n",
       " Document(metadata={'source': 'D:/ragspecific/evaluation/mentalhealth.txt'}, page_content='User: \"I get bored easily and am always looking for something new.\"\\nPersonality Scores\\nAgreeableness: 0.60\\nExtraversion: 0.75\\nOpenness: 0.90\\nConscientiousness: 0.40\\nNeuroticism: 0.35\\nContext: The user\\'s high openness and extraversion indicate a strong desire for novel experiences and social engagement, but low conscientiousness may lead to difficulty in maintaining interest in sustained activities.'),\n",
       " Document(metadata={'source': 'D:/ragspecific/evaluation/mentalhealth.txt'}, page_content='Assistant: \"Your love for new experiences is a wonderful trait. Balancing your adventurous spirit with activities that provide a sense of progress might offer new kinds of fulfillment. Would you be interested in exploring some options?\"'),\n",
       " Document(metadata={'source': 'D:/ragspecific/evaluation/mentalhealth.txt'}, page_content='User: \"I worry that people don\\'t truly understand me.\"\\nPersonality Scores\\nAgreeableness: 0.55\\nExtraversion: 0.50\\nOpenness: 0.65\\nConscientiousness: 0.50\\nNeuroticism: 0.75\\nContext: The user\\'s moderate openness and neuroticism suggest a willingness to share and connect, but also a fear of being misunderstood or not fully accepted.'),\n",
       " Document(metadata={'source': 'D:/ragspecific/evaluation/mentalhealth.txt'}, page_content='Assistant: \"It\\'s important to feel understood and valued for who you are. Perhaps we can work on ways to express your authentic self in a manner that others can appreciate more fully. Would you like to try that?\"'),\n",
       " Document(metadata={'source': 'D:/ragspecific/evaluation/mentalhealth.txt'}, page_content='User: \"I find it hard to say no to people.\"\\nPersonality Scores\\nAgreeableness: 0.85\\nExtraversion: 0.55\\nOpenness: 0.50\\nConscientiousness: 0.65\\nNeuroticism: 0.50\\nContext: The user\\'s high agreeableness may lead to a tendency to prioritize others\\' needs over their own, struggling to set boundaries for fear of disappointing others.'),\n",
       " Document(metadata={'source': 'D:/ragspecific/evaluation/mentalhealth.txt'}, page_content='Assistant: \"Your consideration for others is commendable, but it\\'s also important to honor your own needs. Let\\'s explore gentle ways to assert your boundaries, ensuring you can say no when needed, while still feeling good about your interactions.\"'),\n",
       " Document(metadata={'source': 'D:/ragspecific/evaluation/mentalhealth.txt'}, page_content='User: \"I often feel guilty about taking time for myself.\"\\nPersonality Scores\\nAgreeableness: 0.80\\nExtraversion: 0.45\\nOpenness: 0.60\\nConscientiousness: 0.70\\nNeuroticism: 0.65\\nContext: The user\\'s conscientiousness and agreeableness contribute to a sense of responsibility towards others, often at the expense of their own self-care, leading to feelings of guilt.'),\n",
       " Document(metadata={'source': 'D:/ragspecific/evaluation/mentalhealth.txt'}, page_content='Assistant: \"Taking time for yourself is not only okay, it\\'s necessary for your well-being. Let\\'s look at self-care as a vital part of your routine, something that enables you to be your best self for others. How does that perspective feel?\"'),\n",
       " Document(metadata={'source': 'D:/ragspecific/evaluation/mentalhealth.txt'}, page_content='User: \"I\\'m passionate about many things, but I struggle to focus on one.\"\\nPersonality Scores\\nAgreeableness: 0.65\\nExtraversion: 0.70\\nOpenness: 0.85\\nConscientiousness: 0.35\\nNeuroticism: 0.40\\nContext: The user\\'s high openness and extraversion fuel a wide range of interests, but low conscientiousness may hinder their ability to concentrate on and commit to single pursuits.'),\n",
       " Document(metadata={'source': 'D:/ragspecific/evaluation/mentalhealth.txt'}, page_content='Assistant: \"Your enthusiasm for diverse interests is truly inspiring. Perhaps we can explore methods to harness this passion while gradually increasing focus on specific areas, allowing you to delve deeper into what truly captivates you. Interested?\"'),\n",
       " Document(metadata={'source': 'D:/ragspecific/evaluation/mentalhealth.txt'}, page_content='User: \"I tend to dwell on the past instead of moving forward.\"\\nPersonality Scores\\nAgreeableness: 0.70\\nExtraversion: 0.35\\nOpenness: 0.45\\nConscientiousness: 0.60\\nNeuroticism: 0.80\\nContext: The user\\'s high neuroticism and lower openness might lead to rumination and difficulty in embracing change or new perspectives, often resulting in being stuck in past experiences.'),\n",
       " Document(metadata={'source': 'D:/ragspecific/evaluation/mentalhealth.txt'}, page_content='Assistant: \"Reflecting on the past is natural, but it shouldn\\'t prevent you from enjoying the present or looking forward to the future. Would you be open to strategies that help anchor you in the here and now, fostering a mindset geared towards growth and forward movement?\"'),\n",
       " Document(metadata={'source': 'D:/ragspecific/evaluation/mentalhealth.txt'}, page_content='User: \"I\\'m not very good at dealing with conflicts.\"\\nPersonality Scores\\nAgreeableness: 0.90\\nExtraversion: 0.40\\nOpenness: 0.55\\nConscientiousness: 0.65\\nNeuroticism: 0.60\\nContext: The user\\'s high agreeableness suggests a preference for harmony, which might result in avoiding conflicts or not addressing issues directly, potentially leading to internal stress.'),\n",
       " Document(metadata={'source': 'D:/ragspecific/evaluation/mentalhealth.txt'}, page_content='Assistant: \"Your desire for peace is understandable. Addressing conflicts constructively can actually strengthen relationships and reduce stress. Would you like to explore effective communication strategies that respect both your need for harmony and your personal boundaries?\"'),\n",
       " Document(metadata={'source': 'D:/ragspecific/evaluation/mentalhealth.txt'}, page_content='User: \"I feel restless if I\\'m not constantly engaged in an activity.\"\\nPersonality Scores\\nAgreeableness: 0.55\\nExtraversion: 0.85\\nOpenness: 0.75\\nConscientiousness: 0.50\\nNeuroticism: 0.45\\nContext: The user\\'s high extraversion and openness indicate a strong desire for stimulation and activity, but this constant engagement might mask underlying restlessness or avoidance of quieter moments.'),\n",
       " Document(metadata={'source': 'D:/ragspecific/evaluation/mentalhealth.txt'}, page_content='Assistant: \"Staying active is great, but balance is key. Finding peace in stillness can be surprisingly refreshing. How about we explore activities that soothe and rejuvenate, offering a new kind of engagement that includes moments of calm?\"'),\n",
       " Document(metadata={'source': 'D:/ragspecific/evaluation/mentalhealth.txt'}, page_content='User: \"I hesitate to try new things for fear of failure.\"\\nPersonality Scores\\nAgreeableness: 0.60\\nExtraversion: 0.30\\nOpenness: 0.35\\nConscientiousness: 0.80\\nNeuroticism: 0.75\\nContext: The user\\'s low openness and high neuroticism, combined with their conscientious nature, may contribute to a fear of failure, deterring them from stepping out of their comfort zone.'),\n",
       " Document(metadata={'source': 'D:/ragspecific/evaluation/mentalhealth.txt'}, page_content='Assistant: \"It\\'s natural to fear failure, especially when you hold yourself to high standards. Viewing new experiences as opportunities to learn, rather than tests to pass or fail, can open up a world of possibilities. Would you be interested in exploring this mindset shift together?\"'),\n",
       " Document(metadata={'source': 'D:/ragspecific/evaluation/mentalhealth.txt'}, page_content='User: \"I often feel like I give more in relationships than I receive.\"\\nPersonality Scores\\nAgreeableness: 0.80\\nExtraversion: 0.55\\nOpenness: 0.65\\nConscientiousness: 0.75\\nNeuroticism: 0.50\\nContext: The user\\'s high agreeableness and conscientiousness may lead to a pattern of overextending themselves in relationships, potentially at the expense of their own needs and well-being.'),\n",
       " Document(metadata={'source': 'D:/ragspecific/evaluation/mentalhealth.txt'}, page_content='Assistant: \"It\\'s generous to give in relationships, but balance is important for your well-being. Let\\'s discuss ways to ensure your kindness is reciprocated, fostering more balanced and fulfilling connections. Does that resonate with you?\"'),\n",
       " Document(metadata={'source': 'D:/ragspecific/evaluation/mentalhealth.txt'}, page_content='User: \"I\\'m often told I\\'m too rigid and need to relax more.\"\\nPersonality Scores\\nAgreeableness: 0.50\\nExtraversion: 0.45\\nOpenness: 0.30\\nConscientiousness: 0.90\\nNeuroticism: 0.55\\nContext: The user\\'s high conscientiousness and low openness suggest a preference for structure and routine, which can sometimes come across as inflexibility or resistance to more relaxed approaches.'),\n",
       " Document(metadata={'source': 'D:/ragspecific/evaluation/mentalhealth.txt'}, page_content='Assistant: \"Having structure is valuable, but it\\'s also beneficial to incorporate flexibility. Exploring relaxation techniques could offer a refreshing counterbalance to your routine. Would you be open to trying some methods to gently introduce more ease into your life?\"'),\n",
       " Document(metadata={'source': 'D:/ragspecific/evaluation/mentalhealth.txt'}, page_content='User: \"I\\'m scared of being alone, yet I struggle in social situations.\"\\nPersonality Scores\\nAgreeableness: 0.65\\nExtraversion: 0.20\\nOpenness: 0.50\\nConscientiousness: 0.55\\nNeuroticism: 0.85\\nContext: The user\\'s introversion and high neuroticism may cause discomfort in social settings, yet there\\'s an underlying fear of isolation, creating an internal conflict between seeking companionship and feeling anxious in social interactions.'),\n",
       " Document(metadata={'source': 'D:/ragspecific/evaluation/mentalhealth.txt'}, page_content='Assistant: \"Feeling anxious in social situations yet fearing loneliness is a tough spot to be in. Building social confidence gradually and finding settings where you feel more comfortable can help bridge this gap. Would you like to explore some strategies together?\"'),\n",
       " Document(metadata={'source': 'D:/ragspecific/evaluation/mentalhealth.txt'}, page_content='User: \"I pride myself on being independent, but sometimes I feel disconnected.\"\\nPersonality Scores\\nAgreeableness: 0.55\\nExtraversion: 0.65\\nOpenness: 0.70\\nConscientiousness: 0.60\\nNeuroticism: 0.40\\nContext: The user\\'s strong sense of independence and moderate extraversion suggest they value self-sufficiency and social interaction, but this balance may sometimes lead to feelings of disconnection.'),\n",
       " Document(metadata={'source': 'D:/ragspecific/evaluation/mentalhealth.txt'}, page_content='Assistant: \"Independence is a great quality, yet it\\'s also human to seek connection. Finding a way to maintain your autonomy while engaging in meaningful relationships can enhance your sense of belonging. Would you be interested in discussing how to achieve this balance?\"'),\n",
       " Document(metadata={'source': 'D:/ragspecific/evaluation/mentalhealth.txt'}, page_content='User: \"I\\'m quick to make decisions, but I often second-guess myself.\"\\nPersonality Scores\\nAgreeableness: 0.40\\nExtraversion: 0.75\\nOpenness: 0.65\\nConscientiousness: 0.50\\nNeuroticism: 0.70\\nContext: The user\\'s decisiveness, driven by their extraversion and openness, is counteracted by their neuroticism, leading to frequent second-guessing and doubts about their choices.'),\n",
       " Document(metadata={'source': 'D:/ragspecific/evaluation/mentalhealth.txt'}, page_content='Assistant: \"Making decisions confidently is a strength, but it\\'s also common to wonder about different outcomes. Strengthening your trust in your decision-making process can reduce second-guessing. How about we explore ways to build this confidence?\"'),\n",
       " Document(metadata={'source': 'D:/ragspecific/evaluation/mentalhealth.txt'}, page_content='User: \"I enjoy helping others, but I neglect my own needs.\"\\nPersonality Scores\\nAgreeableness: 0.90\\nExtraversion: 0.60\\nOpenness: 0.55\\nConscientiousness: 0.65\\nNeuroticism: 0.45\\nContext: The user\\'s high agreeableness indicates a strong inclination towards altruism, which can sometimes lead to self-neglect as they prioritize others\\' well-being over their own.'),\n",
       " Document(metadata={'source': 'D:/ragspecific/evaluation/mentalhealth.txt'}, page_content='Assistant: \"Your altruism is admirable, but self-care is equally important. Finding a balance that allows you to help others while also attending to your own needs can lead to greater personal fulfillment. Would you be open to exploring this balance?\"'),\n",
       " Document(metadata={'source': 'D:/ragspecific/evaluation/mentalhealth.txt'}, page_content='User: \"I find it difficult to adapt to new environments.\"\\nPersonality Scores\\nAgreeableness: 0.60\\nExtraversion: 0.35\\nOpenness: 0.25\\nConscientiousness: 0.75\\nNeuroticism: 0.65\\nContext: The user\\'s low openness and moderate neuroticism suggest a resistance to change and a tendency to feel stressed or anxious in new situations, preferring familiar settings and routines.'),\n",
       " Document(metadata={'source': 'D:/ragspecific/evaluation/mentalhealth.txt'}, page_content='Assistant: \"Adapting to new environments can be challenging, especially when comfort lies in the familiar. Taking small steps towards embracing change can make transitions more manageable. Would you like to discuss some strategies to ease into new situations more comfortably?\"'),\n",
       " Document(metadata={'source': 'D:/ragspecific/evaluation/mentalhealth.txt'}, page_content='User: \"I\\'m often critical of myself and my achievements.\"\\nPersonality Scores\\nAgreeableness: 0.55\\nExtraversion: 0.50\\nOpenness: 0.60\\nConscientiousness: 0.80\\nNeuroticism: 0.75\\nContext: The user\\'s high conscientiousness and neuroticism contribute to a perfectionist tendency, leading to self-criticism and underestimation of their accomplishments.'),\n",
       " Document(metadata={'source': 'D:/ragspecific/evaluation/mentalhealth.txt'}, page_content='Assistant: \"Setting high standards for yourself shows your dedication, but it\\'s also important to acknowledge and celebrate your achievements. Cultivating self-compassion can help balance this drive with a kinder view of yourself. Would you be interested in exploring ways to be more forgiving and appreciative of your efforts?\"'),\n",
       " Document(metadata={'source': 'D:/ragspecific/evaluation/mentalhealth.txt'}, page_content='User: \"I don\\'t like people who are overly emotional.\"\\nPersonality Scores:\\nAgreeableness: 0.05\\nExtraversion: 0.02\\nOpenness: 0.02\\nConscientiousness: 0.02\\nNeuroticism: 0.89\\nContext: Given the personality traits, the user may express disdain for overly emotional people due to their own discomfort with emotions and a preference for more logical or detached interactions. Their high neuroticism could make them more sensitive to emotional expressions, which they might find overwhelming or unnecessary.'),\n",
       " Document(metadata={'source': 'D:/ragspecific/evaluation/mentalhealth.txt'}, page_content='Assistant: \"It sounds like you value a more reserved and composed approach in interactions. Understanding personal boundaries regarding emotions is important. Would you like to discuss strategies for navigating situations where others express their emotions in a way that makes you uncomfortable?\"'),\n",
       " Document(metadata={'source': 'D:/ragspecific/evaluation/mentalhealth.txt'}, page_content='User: \"I find it challenging to open up to others.\"\\nPersonality Scores:\\nAgreeableness: 0.70\\nExtraversion: 0.15\\nOpenness: 0.40\\nConscientiousness: 0.85\\nNeuroticism: 0.60\\nContext: The user\\'s high agreeableness suggests they are generally kind and empathetic, yet their low extraversion and moderate neuroticism indicate a tendency towards introversion and emotional sensitivity, possibly leading to difficulties in expressing personal emotions openly.'),\n",
       " Document(metadata={'source': 'D:/ragspecific/evaluation/mentalhealth.txt'}, page_content='Assistant: \"Opening up can be difficult, especially when you\\'re sensitive and thoughtful. It\\'s important to take your time and find people you trust. Would you like to explore strategies to gradually build trust and feel more comfortable sharing your thoughts and feelings?\"'),\n",
       " Document(metadata={'source': 'D:/ragspecific/evaluation/mentalhealth.txt'}, page_content='User: \"I always need to be doing something productive.\"\\nPersonality Scores:\\nAgreeableness: 0.55\\nExtraversion: 0.60\\nOpenness: 0.75\\nConscientiousness: 0.95\\nNeuroticism: 0.30\\nContext: This user\\'s high conscientiousness and openness indicate a strong drive for productivity and a willingness to engage in new experiences. Their moderate extraversion suggests they are somewhat sociable, while low neuroticism points to emotional stability.'),\n",
       " Document(metadata={'source': 'D:/ragspecific/evaluation/mentalhealth.txt'}, page_content='Assistant: \"Your drive for productivity is commendable, and your openness to new experiences is refreshing. It\\'s important to find a balance between productivity and relaxation to avoid burnout. Would you be interested in exploring techniques to maintain productivity while also taking care of your well-being?\"'),\n",
       " Document(metadata={'source': 'D:/ragspecific/evaluation/mentalhealth.txt'}, page_content='User: \"I prefer sticking to my routines than trying out new things.\"\\nPersonality Scores:\\nAgreeableness: 0.65\\nExtraversion: 0.25\\nOpenness: 0.10\\nConscientiousness: 0.80\\nNeuroticism: 0.50'),\n",
       " Document(metadata={'source': 'D:/ragspecific/evaluation/mentalhealth.txt'}, page_content=\"Conscientiousness: 0.80\\nNeuroticism: 0.50\\nContext: The user's low openness and high conscientiousness suggest a preference for routine and structure over novelty. Their moderate agreeableness and neuroticism, combined with low extraversion, indicate a cooperative nature but with some resistance to change and a potential for anxiety in unfamiliar situations.\"),\n",
       " Document(metadata={'source': 'D:/ragspecific/evaluation/mentalhealth.txt'}, page_content='Assistant: \"Routines provide stability, but stepping out of your comfort zone can also lead to growth and new experiences. Would you be interested in exploring small changes to your routine that could introduce some variety without causing too much disruption?\"'),\n",
       " Document(metadata={'source': 'D:/ragspecific/evaluation/mentalhealth.txt'}, page_content='User: \"I often feel misunderstood by others.\"\\nPersonality Scores:\\nAgreeableness: 0.40\\nExtraversion: 0.50\\nOpenness: 0.65\\nConscientiousness: 0.45\\nNeuroticism: 0.75\\nContext: The user\\'s moderate levels of extraversion and openness suggest a willingness to interact and share ideas, yet their high neuroticism and lower agreeableness might lead to sensitivity and challenges in social interactions, feeling misunderstood.'),\n",
       " Document(metadata={'source': 'D:/ragspecific/evaluation/mentalhealth.txt'}, page_content='Assistant: \"Feeling misunderstood can be isolating. It might help to communicate your thoughts and feelings more clearly with others. Would you like to explore ways to express yourself assertively while also being open to understanding others\\' perspectives?\"'),\n",
       " Document(metadata={'source': 'D:/ragspecific/evaluation/mentalhealth.txt'}, page_content='User: \"I\\'m always the life of the party, but sometimes it\\'s exhausting.\"\\nPersonality Scores:\\nAgreeableness: 0.60\\nExtraversion: 0.95\\nOpenness: 0.70\\nConscientiousness: 0.50\\nNeuroticism: 0.35\\nContext: The user\\'s high extraversion indicates they are sociable and energetic, enjoying being around others, while their openness suggests a receptiveness to new experiences. However, the moderate level of neuroticism and conscientiousness might hint at underlying stress from constantly being \\'on.\\''),\n",
       " Document(metadata={'source': 'D:/ragspecific/evaluation/mentalhealth.txt'}, page_content='Assistant: \"Being the life of the party can be energizing, but it\\'s important to take breaks and recharge. Would you like to discuss strategies for managing your energy levels and finding balance in social situations?\"'),\n",
       " Document(metadata={'source': 'D:/ragspecific/evaluation/mentalhealth.txt'}, page_content='User: \"I get anxious when plans change last minute.\"\\nPersonality Scores:\\nAgreeableness: 0.75\\nExtraversion: 0.30\\nOpenness: 0.40\\nConscientiousness: 0.90\\nNeuroticism: 0.80\\nContext: The user\\'s high conscientiousness and neuroticism suggest a preference for structure and predictability, with a significant sensitivity to stress and anxiety when faced with unexpected changes.'),\n",
       " Document(metadata={'source': 'D:/ragspecific/evaluation/mentalhealth.txt'}, page_content='Assistant: \"Dealing with sudden changes can be challenging, especially when you prefer structure. Would you like to explore coping strategies to help manage your anxiety in these situations?\"'),\n",
       " Document(metadata={'source': 'D:/ragspecific/evaluation/mentalhealth.txt'}, page_content='User: \"I love learning new things, but I rarely finish what I start.\"\\nPersonality Scores:\\nAgreeableness: 0.60\\nExtraversion: 0.70\\nOpenness: 0.95\\nConscientiousness: 0.25\\nNeuroticism: 0.40\\nContext: The user\\'s high openness reflects a strong curiosity and love for new experiences, but their low conscientiousness may lead to challenges in seeing projects through to completion.'),\n",
       " Document(metadata={'source': 'D:/ragspecific/evaluation/mentalhealth.txt'}, page_content='Assistant: \"Your curiosity is admirable, and starting new projects can be exciting. Would you like to explore strategies to help you stay focused and motivated to finish what you start?\"'),\n",
       " Document(metadata={'source': 'D:/ragspecific/evaluation/mentalhealth.txt'}, page_content='User: \"I don\\'t enjoy socializing much; I prefer my own company.\"\\nPersonality Scores:\\nAgreeableness: 0.50\\nExtraversion: 0.10\\nOpenness: 0.55\\nConscientiousness: 0.70\\nNeuroticism: 0.45\\nContext: The user\\'s low extraversion suggests a strong preference for solitude and introspection over social activities, while moderate conscientiousness indicates a structured approach to their personal time.'),\n",
       " Document(metadata={'source': 'D:/ragspecific/evaluation/mentalhealth.txt'}, page_content='Assistant: \"It\\'s important to honor your need for solitude while also nurturing connections with others. Would you like to discuss ways to find a balance between alone time and social interactions that feel comfortable for you?\"'),\n",
       " Document(metadata={'source': 'D:/ragspecific/evaluation/mentalhealth.txt'}, page_content='User: \"I often feel overwhelmed by my emotions.\"\\nPersonality Scores:\\nAgreeableness: 0.65\\nExtraversion: 0.55\\nOpenness: 0.60\\nConscientiousness: 0.40\\nNeuroticism: 0.90\\nContext: The user\\'s high neuroticism indicates a propensity towards emotional sensitivity, which can lead to feelings of being overwhelmed, despite having moderate levels of openness and agreeableness.'),\n",
       " Document(metadata={'source': 'D:/ragspecific/evaluation/mentalhealth.txt'}, page_content='Assistant: \"Feeling overwhelmed by emotions can be challenging. Would you like to explore techniques to help you manage and regulate your emotions more effectively?\"'),\n",
       " Document(metadata={'source': 'D:/ragspecific/evaluation/mentalhealth.txt'}, page_content='User: \"\\nI struggle with making decisions.\"\\nPersonality Scores:\\nAgreeableness: 0.55\\nExtraversion: 0.45\\nOpenness: 0.70\\nConscientiousness: 0.35\\nNeuroticism: 0.60\\nContext: The user\\'s moderate levels of agreeableness, extraversion, and openness suggest a willingness to consider various perspectives and options, but their lower conscientiousness and moderate neuroticism may lead to indecision and anxiety about making the wrong choice.'),\n",
       " Document(metadata={'source': 'D:/ragspecific/evaluation/mentalhealth.txt'}, page_content='Assistant: \"Decision-making can indeed be challenging, especially when considering multiple factors. Would you like to discuss strategies to help you approach decision-making with more confidence and clarity?\"'),\n",
       " Document(metadata={'source': 'D:/ragspecific/evaluation/mentalhealth.txt'}, page_content='User: \"I often feel overwhelmed by the expectations others have of me.\"\\nPersonality Scores:\\nAgreeableness: 0.60\\nExtraversion: 0.45\\nOpenness: 0.50\\nConscientiousness: 0.75\\nNeuroticism: 0.70\\nContext: The user\\'s moderate agreeableness and conscientiousness indicate a tendency to aim for harmony and meet expectations, yet their high neuroticism may lead to stress and pressure when faced with others\\' demands.'),\n",
       " Document(metadata={'source': 'D:/ragspecific/evaluation/mentalhealth.txt'}, page_content='Assistant: \"Struggling with others\\' expectations is understandable, especially when balancing them with your own needs. Let\\'s explore strategies to communicate your boundaries effectively and manage these expectations in a way that preserves your well-being. How does that sound?\"'),\n",
       " Document(metadata={'source': 'D:/ragspecific/evaluation/mentalhealth.txt'}, page_content='User: \"I often feel like I\\'m not good enough.\"\\nPersonality Scores:\\nAgreeableness: 0.55\\nExtraversion: 0.50\\nOpenness: 0.60\\nConscientiousness: 0.80\\nNeuroticism: 0.75\\nContext: The user\\'s high conscientiousness might contribute to setting high standards for themselves, but their moderate levels of agreeableness and neuroticism may lead to self-doubt and feelings of inadequacy.'),\n",
       " Document(metadata={'source': 'D:/ragspecific/evaluation/mentalhealth.txt'}, page_content='Assistant: \"Feeling like you\\'re not good enough can be challenging, especially when you hold yourself to high standards. Let\\'s work on building self-compassion and acknowledging your strengths and accomplishments. Would you like to explore ways to shift this perspective?\"'),\n",
       " Document(metadata={'source': 'D:/ragspecific/evaluation/mentalhealth.txt'}, page_content='User: \"I struggle to maintain boundaries with others.\"\\nPersonality Scores:\\nAgreeableness: 0.70\\nExtraversion: 0.45\\nOpenness: 0.50\\nConscientiousness: 0.65\\nNeuroticism: 0.60\\nContext: The user\\'s high agreeableness suggests a tendency to prioritize others\\' needs, potentially leading to difficulties in asserting boundaries, especially with their moderate levels of conscientiousness and neuroticism.'),\n",
       " Document(metadata={'source': 'D:/ragspecific/evaluation/mentalhealth.txt'}, page_content='Assistant: \"Maintaining boundaries is crucial for healthy relationships. Let\\'s explore ways to communicate your boundaries assertively and with compassion, ensuring your needs are respected while fostering positive connections. How does that resonate with you?\"'),\n",
       " Document(metadata={'source': 'D:/ragspecific/evaluation/mentalhealth.txt'}, page_content='User: \"I often feel like I\\'m on autopilot, just going through the motions.\"\\nPersonality Scores:\\nAgreeableness: 0.65\\nExtraversion: 0.40\\nOpenness: 0.55\\nConscientiousness: 0.70\\nNeuroticism: 0.50\\nContext: The user\\'s moderate levels of agreeableness and conscientiousness might contribute to fulfilling responsibilities without much thought, leading to a sense of detachment or monotony, despite their openness to experience.'),\n",
       " Document(metadata={'source': 'D:/ragspecific/evaluation/mentalhealth.txt'}, page_content='Assistant: \"Feeling like you\\'re on autopilot can be disconcerting. Let\\'s explore ways to inject more mindfulness and intention into your daily routines, adding depth and meaning to each moment. Would you be interested in incorporating mindfulness practices into your life?\"'),\n",
       " Document(metadata={'source': 'D:/ragspecific/evaluation/mentalhealth.txt'}, page_content='User: \"I often feel like I don\\'t belong, even in familiar settings.\"\\nPersonality Scores:\\nAgreeableness: 0.60\\nExtraversion: 0.25\\nOpenness: 0.50\\nConscientiousness: 0.55\\nNeuroticism: 0.65\\nContext: The user\\'s moderate agreeableness and conscientiousness, combined with low extraversion, suggest a preference for stability and order, but their moderate neuroticism may lead to feelings of insecurity and detachment in social situations.'),\n",
       " Document(metadata={'source': 'D:/ragspecific/evaluation/mentalhealth.txt'}, page_content='Assistant: \"Feeling like you don\\'t belong can be isolating. Let\\'s explore ways to cultivate a sense of belonging within yourself, regardless of external circumstances, and find environments where you feel genuinely accepted. How does that sound?\"'),\n",
       " Document(metadata={'source': 'D:/ragspecific/evaluation/mentalhealth.txt'}, page_content='User: \"I struggle to express my emotions openly.\"\\nPersonality Scores:\\nAgreeableness: 0.65\\nExtraversion: 0.35\\nOpenness: 0.40\\nConscientiousness: 0.60\\nNeuroticism: 0.75\\nContext: The user\\'s moderate levels of agreeableness and conscientiousness, combined with their high neuroticism, may contribute to difficulty in expressing emotions openly, possibly due to fear of vulnerability or rejection.'),\n",
       " Document(metadata={'source': 'D:/ragspecific/evaluation/mentalhealth.txt'}, page_content='Assistant: \"Expressing emotions can be challenging, especially when you\\'re sensitive to how others might perceive you. Let\\'s work on creating a safe space for you to explore and express your feelings authentically, without judgment. Would you like to start this journey?\"'),\n",
       " Document(metadata={'source': 'D:/ragspecific/evaluation/mentalhealth.txt'}, page_content='User: \"I often feel like I\\'m not living up to my potential.\"\\nPersonality Scores:\\nAgreeableness: 0.55\\nExtraversion: 0.50\\nOpenness: 0.60\\nConscientiousness: 0.80\\nNeuroticism: 0.75\\nContext: The user\\'s high conscientiousness may lead to setting ambitious goals, but their moderate agreeableness and high neuroticism could contribute to feelings of inadequacy and self-doubt.'),\n",
       " Document(metadata={'source': 'D:/ragspecific/evaluation/mentalhealth.txt'}, page_content='Assistant: \"Striving for your potential is admirable, but it\\'s important to recognize your accomplishments along the way. Let\\'s explore ways to shift your focus towards progress and self-compassion, celebrating each step forward. How does that sound?\"'),\n",
       " Document(metadata={'source': 'D:/ragspecific/evaluation/mentalhealth.txt'}, page_content='User: \"I often feel like I\\'m stuck in a rut, unable to make progress.\"\\nPersonality Scores:\\nAgreeableness: 0.60\\nExtraversion: 0.45\\nOpenness: 0.55\\nConscientiousness: 0.70\\nNeuroticism: 0.70\\nContext: The user\\'s moderate levels of agreeableness and conscientiousness, combined with their high neuroticism, may contribute to feelings of being trapped or stagnant, despite their openness to new experiences.'),\n",
       " Document(metadata={'source': 'D:/ragspecific/evaluation/mentalhealth.txt'}, page_content='Assistant: \"Feeling stuck can be frustrating. Let\\'s explore ways to break out of this rut, whether it\\'s through small changes in routine, setting new goals, or cultivating a different perspective on your current situation. Would you like to brainstorm some ideas together?\"'),\n",
       " Document(metadata={'source': 'D:/ragspecific/evaluation/mentalhealth.txt'}, page_content='User: \"I often feel like I\\'m not understood by those around me.\"\\nPersonality Scores:\\nAgreeableness: 0.55\\nExtraversion: 0.50\\nOpenness: 0.60\\nConscientiousness: 0.75\\nNeuroticism: 0.75\\nContext: The user\\'s high conscientiousness may lead to clear communication of their thoughts and feelings, but their moderate agreeableness and high neuroticism could contribute to feelings of being misunderstood or unappreciated.'),\n",
       " Document(metadata={'source': 'D:/ragspecific/evaluation/mentalhealth.txt'}, page_content='Assistant: \"Feeling misunderstood can be isolating. Let\\'s work on finding effective ways to communicate your thoughts and emotions, ensuring others have a better understanding of your perspective. Would you like to explore some communication strategies?\"'),\n",
       " Document(metadata={'source': 'D:/ragspecific/evaluation/mentalhealth.txt'}, page_content='User: \"I often feel like I\\'m behind everyone else in life.\"\\nPersonality Scores:\\nAgreeableness: 0.60\\nExtraversion: 0.45\\nOpenness: 0.55\\nConscientiousness: 0.70\\nNeuroticism: 0.70\\nContext: The user\\'s moderate levels of agreeableness and conscientiousness, combined with their high neuroticism, may contribute to feelings of inadequacy or comparison with others\\' progress.\\nAssistant: \"'),\n",
       " Document(metadata={'source': 'D:/ragspecific/evaluation/mentalhealth.txt'}, page_content='Assistant: \"\\nFeeling behind can be disheartening, but it\\'s important to remember that everyone\\'s journey is unique. Let\\'s focus on your own path and celebrate the progress you\\'ve made so far. Would you like to explore ways to cultivate a more positive perspective on your life\\'s trajectory?\"'),\n",
       " Document(metadata={'source': 'D:/ragspecific/evaluation/mentalhealth.txt'}, page_content='User: \"I often find it difficult to assert myself in group settings.\"\\nPersonality Scores:\\nAgreeableness: 0.65\\nExtraversion: 0.40\\nOpenness: 0.50\\nConscientiousness: 0.60\\nNeuroticism: 0.70\\nContext: The user\\'s moderate agreeableness and conscientiousness, combined with their moderate extraversion and high neuroticism, may contribute to hesitancy in asserting themselves assertively, particularly in group settings.'),\n",
       " Document(metadata={'source': 'D:/ragspecific/evaluation/mentalhealth.txt'}, page_content='Assistant: \"Asserting yourself in group settings can indeed be challenging, especially when considering the dynamics at play. Let\\'s explore strategies to help you feel more confident in expressing your thoughts and opinions while navigating group interactions. How does that sound to you?\"'),\n",
       " Document(metadata={'source': 'D:/ragspecific/evaluation/mentalhealth.txt'}, page_content='User: \"I often feel overwhelmed by the number of choices I have to make.\"\\nPersonality Scores:\\nAgreeableness: 0.55\\nExtraversion: 0.50\\nOpenness: 0.60\\nConscientiousness: 0.75\\nNeuroticism: 0.65\\nContext: The user\\'s high conscientiousness may lead to a desire for making the best choices, but their moderate agreeableness and neuroticism might contribute to feeling overwhelmed by the abundance of options available.'),\n",
       " Document(metadata={'source': 'D:/ragspecific/evaluation/mentalhealth.txt'}, page_content='Assistant: \"Feeling overwhelmed by choices is common, especially when you want to make the best decisions. Let\\'s explore strategies to simplify your decision-making process and prioritize what truly matters to you. Would you like to start by breaking down your options?\"'),\n",
       " Document(metadata={'source': 'D:/ragspecific/evaluation/mentalhealth.txt'}, page_content='User: \"I often feel like I\\'m not appreciated for my efforts.\"\\nPersonality Scores:\\nAgreeableness: 0.60\\nExtraversion: 0.45\\nOpenness: 0.50\\nConscientiousness: 0.70\\nNeuroticism: 0.75\\nContext: The user\\'s high conscientiousness may lead to putting significant effort into their endeavors, but their moderate agreeableness and high neuroticism could contribute to feeling undervalued or overlooked by others.'),\n",
       " Document(metadata={'source': 'D:/ragspecific/evaluation/mentalhealth.txt'}, page_content='Assistant: \"Feeling unappreciated despite your efforts can be disheartening. Let\\'s explore ways to communicate your contributions effectively and ensure your efforts are recognized. Would you like to brainstorm some strategies together?\"'),\n",
       " Document(metadata={'source': 'D:/ragspecific/evaluation/mentalhealth.txt'}, page_content='User: \"I often feel like I\\'m not reaching my full potential.\"\\nPersonality Scores:\\nAgreeableness: 0.55\\nExtraversion: 0.50\\nOpenness: 0.60\\nConscientiousness: 0.80\\nNeuroticism: 0.75\\nContext: The user\\'s high conscientiousness suggests a drive to achieve, but their moderate agreeableness and high neuroticism may lead to feelings of falling short of their potential.'),\n",
       " Document(metadata={'source': 'D:/ragspecific/evaluation/mentalhealth.txt'}, page_content='Assistant: \"Striving for your full potential is admirable, but it\\'s essential to recognize the progress you\\'ve made along the way. Let\\'s explore ways to shift your perspective and acknowledge your achievements. Would you like to discuss some specific goals or milestones?\"'),\n",
       " Document(metadata={'source': 'D:/ragspecific/evaluation/mentalhealth.txt'}, page_content='User: \"I often feel like I\\'m disconnected from my emotions.\"\\nPersonality Scores:\\nAgreeableness: 0.65\\nExtraversion: 0.40\\nOpenness: 0.50\\nConscientiousness: 0.60\\nNeuroticism: 0.70\\nContext: The user\\'s moderate agreeableness and conscientiousness, combined with their moderate extraversion and high neuroticism, may contribute to a sense of detachment from their emotions, despite their inclination towards empathy.'),\n",
       " Document(metadata={'source': 'D:/ragspecific/evaluation/mentalhealth.txt'}, page_content='Assistant: \"Feeling disconnected from your emotions can be challenging, especially when you value empathy and understanding. Let\\'s explore techniques to help you reconnect with your feelings and cultivate emotional awareness. Would you be open to trying some mindfulness exercises or journaling?\"'),\n",
       " Document(metadata={'source': 'D:/ragspecific/evaluation/mentalhealth.txt'}, page_content='User: \"I often feel like I\\'m not making a meaningful impact in the world.\"\\nPersonality Scores:\\nAgreeableness: 0.60\\nExtraversion: 0.45\\nOpenness: 0.55\\nConscientiousness: 0.70\\nNeuroticism: 0.70\\nContext: The user\\'s moderate levels of agreeableness and conscientiousness, combined with their moderate extraversion and high neuroticism, may lead to feelings of inadequacy or insignificance in terms of their impact on the world.'),\n",
       " Document(metadata={'source': 'D:/ragspecific/evaluation/mentalhealth.txt'}, page_content='Assistant: \"Feeling like you\\'re not making a meaningful impact can be disheartening, but it\\'s essential to recognize the value you bring, no matter how small it may seem. Let\\'s explore ways to channel your passions and skills into positive change, whether on a large or small scale. How does that resonate with you?\"'),\n",
       " Document(metadata={'source': 'D:/ragspecific/evaluation/mentalhealth.txt'}, page_content='User: \"I often feel like I\\'m stuck in a routine that\\'s not fulfilling.\"\\nPersonality Scores:\\nAgreeableness: 0.60\\nExtraversion: 0.45\\nOpenness: 0.55\\nConscientiousness: 0.70\\nNeuroticism: 0.70\\nContext: The user\\'s moderate levels of agreeableness and conscientiousness, combined with their moderate extraversion and high neuroticism, may contribute to a sense of dissatisfaction with their current routine, despite their inclination towards stability.'),\n",
       " Document(metadata={'source': 'D:/ragspecific/evaluation/mentalhealth.txt'}, page_content='Assistant: \"Feeling stuck in an unfulfilling routine can be draining. Let\\'s explore ways to inject more excitement and meaning into your daily life, whether through new hobbies, experiences, or changes to your existing routine. Would you like to brainstorm some ideas together?\"'),\n",
       " Document(metadata={'source': 'D:/ragspecific/evaluation/mentalhealth.txt'}, page_content='User: \"I often feel like I\\'m not living authentically.\"\\nPersonality Scores:\\nAgreeableness: 0.55\\nExtraversion: 0.50\\nOpenness: 0.60\\nConscientiousness: 0.75\\nNeuroticism: 0.75\\nContext: The user\\'s high conscientiousness may lead to a desire for authenticity, but their moderate agreeableness and high neuroticism could contribute to feelings of disconnection from their true self.'),\n",
       " Document(metadata={'source': 'D:/ragspecific/evaluation/mentalhealth.txt'}, page_content='Assistant: \"Feeling like you\\'re not living authentically can be unsettling. Let\\'s explore ways to align your actions and choices with your true values and aspirations, allowing you to live a more fulfilling and genuine life. How does that sound to you?\"'),\n",
       " Document(metadata={'source': 'D:/ragspecific/evaluation/mentalhealth.txt'}, page_content='User: \"I often feel like I\\'m constantly seeking validation from others.\"\\nPersonality Scores:\\nAgreeableness: 0.60\\nExtraversion: 0.45\\nOpenness: 0.55\\nConscientiousness: 0.70\\nNeuroticism: 0.70\\nContext: The user\\'s moderate levels of agreeableness and conscientiousness, combined with their moderate extraversion and high neuroticism, may contribute to a tendency to seek validation externally, despite their inner drive for accomplishment.'),\n",
       " Document(metadata={'source': 'D:/ragspecific/evaluation/mentalhealth.txt'}, page_content='Assistant: \"Seeking validation from others can be a common struggle, especially when balancing it with your own sense of worth. Let\\'s explore ways to cultivate self-validation and confidence from within, freeing you from dependence on external approval. Would you like to discuss some techniques to build self-assurance?\"'),\n",
       " Document(metadata={'source': 'D:/ragspecific/evaluation/mentalhealth.txt'}, page_content='User: \"I often struggle to find motivation to pursue my goals.\"\\nPersonality Scores:\\nAgreeableness: 0.55\\nExtraversion: 0.40\\nOpenness: 0.60\\nConscientiousness: 0.70\\nNeuroticism: 0.75\\nContext: The user\\'s high conscientiousness may indicate a strong desire to achieve goals, but their moderate agreeableness and high neuroticism could contribute to fluctuations in motivation levels.'),\n",
       " Document(metadata={'source': 'D:/ragspecific/evaluation/mentalhealth.txt'}, page_content='Assistant: \"Finding motivation to pursue your goals can be challenging, especially when faced with obstacles or distractions. Let\\'s explore strategies to reignite your motivation and break down your goals into manageable steps. Would you like to discuss specific techniques or goals you have in mind?\"'),\n",
       " Document(metadata={'source': 'D:/ragspecific/evaluation/mentalhealth.txt'}, page_content='User: \"I often feel overwhelmed by social situations.\"\\nPersonality Scores:\\nAgreeableness: 0.60\\nExtraversion: 0.45\\nOpenness: 0.55\\nConscientiousness: 0.70\\nNeuroticism: 0.70\\nContext: The user\\'s moderate levels of agreeableness and conscientiousness, combined with their moderate extraversion and high neuroticism, may contribute to feelings of overwhelm in social settings, despite their inclination towards social interaction.'),\n",
       " Document(metadata={'source': 'D:/ragspecific/evaluation/mentalhealth.txt'}, page_content='Assistant: \"Feeling overwhelmed in social situations is understandable, especially when balancing your desire for social interaction with potential stressors. Let\\'s explore techniques to manage social anxiety and build confidence in various social settings. Would you like to discuss specific scenarios where you often feel overwhelmed?\"'),\n",
       " Document(metadata={'source': 'D:/ragspecific/evaluation/mentalhealth.txt'}, page_content='User: \"I often struggle to maintain a healthy work-life balance.\"\\nPersonality Scores:\\nAgreeableness: 0.55\\nExtraversion: 0.50\\nOpenness: 0.60\\nConscientiousness: 0.75\\nNeuroticism: 0.65\\nContext: The user\\'s high conscientiousness may lead to a strong work ethic, but their moderate agreeableness and neuroticism could contribute to challenges in prioritizing personal time and boundaries.'),\n",
       " Document(metadata={'source': 'D:/ragspecific/evaluation/mentalhealth.txt'}, page_content='Assistant: \"Achieving a healthy work-life balance can indeed be challenging, especially when driven by a strong work ethic. Let\\'s explore strategies to set boundaries, manage time effectively, and prioritize self-care to create a more harmonious balance. Would you like to discuss specific areas where you\\'re struggling to find balance?\"'),\n",
       " Document(metadata={'source': 'D:/ragspecific/evaluation/mentalhealth.txt'}, page_content='User: \"I often feel like I\\'m not reaching my creative potential.\"\\nPersonality Scores:\\nAgreeableness: 0.60\\nExtraversion: 0.55\\nOpenness: 0.70\\nConscientiousness: 0.65\\nNeuroticism: 0.60\\nContext: The user\\'s moderate levels of agreeableness and conscientiousness, combined with their high extraversion and openness, suggest a desire for creative expression, but they may feel hindered in fully realizing their creative potential.'),\n",
       " Document(metadata={'source': 'D:/ragspecific/evaluation/mentalhealth.txt'}, page_content='Assistant: \"Feeling like you\\'re not reaching your creative potential can be frustrating, especially when you have a strong inclination towards creativity. Let\\'s explore ways to nurture your creativity and overcome any barriers you may be facing. Would you like to discuss specific creative projects or ideas you have in mind?\"'),\n",
       " Document(metadata={'source': 'D:/ragspecific/evaluation/mentalhealth.txt'}, page_content='User: \"I often struggle to make decisions without doubting myself.\"\\nPersonality Scores:\\nAgreeableness: 0.55\\nExtraversion: 0.50\\nOpenness: 0.60\\nConscientiousness: 0.70\\nNeuroticism: 0.75\\nContext: The user\\'s high conscientiousness may lead to thorough decision-making, but their moderate agreeableness and high neuroticism could contribute to self-doubt and indecision.'),\n",
       " Document(metadata={'source': 'D:/ragspecific/evaluation/mentalhealth.txt'}, page_content='Assistant: \"Struggling to make decisions without doubting yourself can be challenging, especially when striving for accuracy and certainty. Let\\'s explore techniques to build confidence in your decision-making abilities and trust your instincts more readily. Would you like to discuss specific decisions you\\'re currently facing?\"'),\n",
       " Document(metadata={'source': 'D:/ragspecific/evaluation/mentalhealth.txt'}, page_content='User: \"I often feel like I\\'m not learning as much as I could.\"\\nPersonality Scores:\\nAgreeableness: 0.60\\nExtraversion: 0.45\\nOpenness: 0.65\\nConscientiousness: 0.70\\nNeuroticism: 0.70\\nContext: The user\\'s moderate levels of agreeableness and conscientiousness, combined with their moderate extraversion and high neuroticism, may lead to a desire for continuous learning, but they may feel unsatisfied with their current rate of learning.'),\n",
       " Document(metadata={'source': 'D:/ragspecific/evaluation/mentalhealth.txt'}, page_content='Assistant: \"Feeling like you\\'re not learning as much as you could can be a common concern, especially when you have a thirst for knowledge. Let\\'s explore ways to expand your learning opportunities and challenge yourself intellectually. Would you like to discuss specific areas of interest or potential learning resources?\"'),\n",
       " Document(metadata={'source': 'D:/ragspecific/evaluation/mentalhealth.txt'}, page_content='User: \"I often feel like I\\'m not connecting deeply enough with others.\"\\nPersonality Scores:\\nAgreeableness: 0.65\\nExtraversion: 0.50\\nOpenness: 0.55\\nConscientiousness: 0.60\\nNeuroticism: 0.70\\nContext: The user\\'s moderate agreeableness and conscientiousness, combined with their moderate extraversion and high neuroticism, may contribute to a desire for deeper connections with others, but they may struggle to overcome barriers to intimacy.'),\n",
       " Document(metadata={'source': 'D:/ragspecific/evaluation/mentalhealth.txt'}, page_content='Assistant: \"Feeling like you\\'re not connecting deeply enough with others can be challenging, especially when valuing meaningful relationships. Let\\'s explore techniques to foster deeper connections and overcome any obstacles you may be encountering. Would you like to discuss specific relationships or communication strategies?\"'),\n",
       " Document(metadata={'source': 'D:/ragspecific/evaluation/mentalhealth.txt'}, page_content='User: \"I often feel like I\\'m not being true to myself in my relationships.\"\\nPersonality Scores:\\nAgreeableness: 0.55\\nExtraversion: 0.50\\nOpenness: 0.60\\nConscientiousness: 0.70\\nNeuroticism: 0.75\\nContext: The user\\'s high conscientiousness may lead to a desire for authenticity, but their moderate agreeableness and high neuroticism could contribute to feelings of incongruence or insincerity in their relationships.'),\n",
       " Document(metadata={'source': 'D:/ragspecific/evaluation/mentalhealth.txt'}, page_content='Assistant: \"Feeling like you\\'re not being true to yourself in your relationships can be distressing, especially when authenticity is important to you. Let\\'s explore ways to express your true self more openly and cultivate genuine connections with others. Would you like to discuss specific situations where you feel this discrepancy?\"'),\n",
       " Document(metadata={'source': 'D:/ragspecific/evaluation/mentalhealth.txt'}, page_content='User: \"I often feel like I\\'m not utilizing my skills and talents effectively.\"\\nPersonality Scores:\\nAgreeableness: 0.60\\nExtraversion: 0.45\\nOpenness: 0.55\\nConscientiousness: 0.70\\nNeuroticism: 0.70\\nContext: The user\\'s moderate levels of agreeableness and conscientiousness, combined with their moderate extraversion and high neuroticism, may lead to a desire for maximizing their potential, but they may feel frustrated with perceived underutilization of their skills and talents.'),\n",
       " Document(metadata={'source': 'D:/ragspecific/evaluation/mentalhealth.txt'}, page_content='Assistant: \"Feeling like you\\'re not utilizing your skills and talents effectively can be discouraging, especially when you have a lot to offer. Let\\'s explore ways to leverage your strengths and create opportunities that align with your abilities and interests. Would you like to discuss specific skills or areas where you feel underutilized?\"'),\n",
       " Document(metadata={'source': 'D:/ragspecific/evaluation/mentalhealth.txt'}, page_content='User: \"I\\'m often torn between pursuing stability and following my passion for adventure.\"\\nPersonality Scores:\\nAgreeableness: 0.55\\nExtraversion: 0.60\\nOpenness: 0.70\\nConscientiousness: 0.50\\nNeuroticism: 0.65\\nContext: The user\\'s high openness and extraversion suggest a strong desire for adventure and new experiences, while their moderate levels of agreeableness and conscientiousness may create internal conflict when considering stability versus exploration.'),\n",
       " Document(metadata={'source': 'D:/ragspecific/evaluation/mentalhealth.txt'}, page_content='Assistant: \"Balancing stability with your passion for adventure can indeed be challenging, especially when both aspects hold significant appeal. Let\\'s explore ways to integrate adventure into your life while maintaining a sense of stability and security. Would you like to discuss specific adventures you\\'re considering or how to incorporate spontaneity into your routine?\"'),\n",
       " Document(metadata={'source': 'D:/ragspecific/evaluation/mentalhealth.txt'}, page_content='User: \"I often struggle to find inspiration for my creative projects.\"\\nPersonality Scores:\\nAgreeableness: 0.60\\nExtraversion: 0.55\\nOpenness: 0.75\\nConscientiousness: 0.50\\nNeuroticism: 0.60\\nContext: The user\\'s high openness and agreeableness suggest a strong inclination towards creativity and collaboration, but their moderate conscientiousness may lead to difficulties in finding consistent inspiration for their projects.'),\n",
       " Document(metadata={'source': 'D:/ragspecific/evaluation/mentalhealth.txt'}, page_content='Assistant: \"Finding inspiration for creative projects can be a common challenge, especially when seeking fresh ideas and perspectives. Let\\'s explore techniques to stimulate your creativity and overcome any blocks you may be experiencing. Would you like to discuss brainstorming exercises, exploring new artistic mediums, or finding inspiration in everyday life?\"'),\n",
       " Document(metadata={'source': 'D:/ragspecific/evaluation/mentalhealth.txt'}, page_content='User: \"I often feel like I\\'m not making a meaningful impact in the world.\"\\nPersonality Scores:\\nAgreeableness: 0.65\\nExtraversion: 0.50\\nOpenness: 0.60\\nConscientiousness: 0.70\\nNeuroticism: 0.55\\nContext: The user\\'s high agreeableness and conscientiousness suggest a desire to contribute positively to the world, but their moderate levels of extraversion and openness may lead to feelings of inadequacy in terms of impact and influence.'),\n",
       " Document(metadata={'source': 'D:/ragspecific/evaluation/mentalhealth.txt'}, page_content='Assistant: \"Feeling like you\\'re not making a meaningful impact in the world can be disheartening, especially when you have a strong desire to contribute positively. Let\\'s explore ways to align your passions and skills with opportunities for meaningful change. Would you like to discuss specific causes or volunteer opportunities that resonate with you?\"'),\n",
       " Document(metadata={'source': 'D:/ragspecific/evaluation/mentalhealth.txt'}, page_content='User: \"I often struggle to stay focused on my long-term goals.\"\\nPersonality Scores:\\nAgreeableness: 0.55\\nExtraversion: 0.60\\nOpenness: 0.65\\nConscientiousness: 0.45\\nNeuroticism: 0.70\\nContext: The user\\'s high extraversion and openness suggest a tendency towards exploration and new experiences, while their moderate agreeableness and low conscientiousness may lead to challenges in maintaining focus and discipline over extended periods.'),\n",
       " Document(metadata={'source': 'D:/ragspecific/evaluation/mentalhealth.txt'}, page_content='Assistant: \"Staying focused on long-term goals can be challenging, especially when balancing the allure of new experiences with the need for sustained effort and commitment. Let\\'s explore strategies to enhance your goal-setting process and maintain motivation over time. Would you like to discuss breaking down your goals into smaller milestones, setting reminders, or establishing accountability measures?\"'),\n",
       " Document(metadata={'source': 'D:/ragspecific/evaluation/mentalhealth.txt'}, page_content='User: \"I often feel overwhelmed by the amount of information available online.\"\\nPersonality Scores:\\nAgreeableness: 0.60\\nExtraversion: 0.45\\nOpenness: 0.70\\nConscientiousness: 0.55\\nNeuroticism: 0.65\\nContext: The user\\'s high openness suggests a strong curiosity and thirst for knowledge, but their moderate levels of agreeableness and conscientiousness, combined with their low extraversion, may lead to feelings of overwhelm when navigating the vast amount of information online.'),\n",
       " Document(metadata={'source': 'D:/ragspecific/evaluation/mentalhealth.txt'}, page_content='Assistant: \"Feeling overwhelmed by the abundance of online information is understandable, especially when trying to sift through vast amounts of content. Let\\'s explore techniques to manage information overload and find valuable resources efficiently. Would you like to discuss strategies such as setting specific research goals, using curated content platforms, or implementing time limits for online browsing?\"'),\n",
       " Document(metadata={'source': 'D:/ragspecific/evaluation/mentalhealth.txt'}, page_content='User: \"I often struggle to express my emotions openly and authentically.\"\\nPersonality Scores:\\nAgreeableness: 0.55\\nExtraversion: 0.50\\nOpenness: 0.60\\nConscientiousness: 0.70\\nNeuroticism: 0.75\\nContext: The user\\'s high conscientiousness may lead to a desire for authenticity, but their moderate agreeableness and high neuroticism could contribute to difficulties in expressing emotions openly without fear of judgment or rejection.'),\n",
       " Document(metadata={'source': 'D:/ragspecific/evaluation/mentalhealth.txt'}, page_content='Assistant: \"Struggling to express emotions openly and authentically can be challenging, especially when navigating concerns about how others may perceive you. Let\\'s explore techniques to cultivate emotional awareness and create a safe space for expression. Would you like to discuss exercises for identifying and communicating emotions, practicing self-compassion, or seeking support from trusted individuals?\"'),\n",
       " Document(metadata={'source': 'D:/ragspecific/evaluation/mentalhealth.txt'}, page_content='User: \"I often feel like I\\'m not living up to my full potential.\"\\nPersonality Scores:\\nAgreeableness: 0.60\\nExtraversion: 0.55\\nOpenness: 0.65\\nConscientiousness: 0.70\\nNeuroticism: 0.70\\nContext: The user\\'s moderate levels of agreeableness and conscientiousness, combined with their high extraversion and openness, suggest a desire for growth and self-improvement, but they may feel hindered by self-doubt or external obstacles.'),\n",
       " Document(metadata={'source': 'D:/ragspecific/evaluation/mentalhealth.txt'}, page_content='Assistant: \"Feeling like you\\'re not living up to your full potential can be a common concern, especially when you have ambitious goals and aspirations. Let\\'s explore ways to unlock your potential and overcome any barriers that may be holding you back. Would you like to discuss techniques for self-reflection, goal setting, or seeking mentorship and guidance?\"')]"
      ]
     },
     "execution_count": 7,
     "metadata": {},
     "output_type": "execute_result"
    }
   ],
   "source": [
    "chunks"
   ]
  },
  {
   "cell_type": "code",
   "execution_count": 9,
   "metadata": {},
   "outputs": [
    {
     "name": "stderr",
     "output_type": "stream",
     "text": [
      "C:\\Users\\Administrator\\AppData\\Local\\Temp\\ipykernel_8428\\801722267.py:3: LangChainDeprecationWarning: The class `HuggingFaceEmbeddings` was deprecated in LangChain 0.2.2 and will be removed in 1.0. An updated version of the class exists in the :class:`~langchain-huggingface package and should be used instead. To use it run `pip install -U :class:`~langchain-huggingface` and import as `from :class:`~langchain_huggingface import HuggingFaceEmbeddings``.\n",
      "  embeddings_model = HuggingFaceEmbeddings(model_name=\"sentence-transformers/all-MiniLM-L6-v2\")\n",
      "c:\\ProgramData\\anaconda3\\envs\\prac\\Lib\\site-packages\\tqdm\\auto.py:21: TqdmWarning: IProgress not found. Please update jupyter and ipywidgets. See https://ipywidgets.readthedocs.io/en/stable/user_install.html\n",
      "  from .autonotebook import tqdm as notebook_tqdm\n"
     ]
    }
   ],
   "source": [
    "from langchain.embeddings import HuggingFaceEmbeddings\n",
    "\n",
    "embeddings_model = HuggingFaceEmbeddings(model_name=\"sentence-transformers/all-MiniLM-L6-v2\")"
   ]
  },
  {
   "cell_type": "code",
   "execution_count": 10,
   "metadata": {},
   "outputs": [],
   "source": [
    "from langchain_community.vectorstores import FAISS # type: ignore\n",
    "vectordb = FAISS.from_documents(chunks, embeddings_model)"
   ]
  },
  {
   "cell_type": "code",
   "execution_count": 11,
   "metadata": {},
   "outputs": [],
   "source": [
    "retriever = vectordb.as_retriever()"
   ]
  },
  {
   "cell_type": "markdown",
   "metadata": {},
   "source": [
    "Define llm"
   ]
  },
  {
   "cell_type": "code",
   "execution_count": 12,
   "metadata": {},
   "outputs": [],
   "source": [
    "llm = ChatGroq(model = \"mixtral-8x7b-32768\")"
   ]
  },
  {
   "cell_type": "markdown",
   "metadata": {},
   "source": [
    "define prompt"
   ]
  },
  {
   "cell_type": "code",
   "execution_count": 13,
   "metadata": {},
   "outputs": [],
   "source": [
    "template = \"\"\"  \n",
    "You are a helpful mentalhealth assitant,\n",
    "Question : {question},\n",
    "context : {context},\n",
    "Answer:\n",
    "\n",
    "\"\"\""
   ]
  },
  {
   "cell_type": "code",
   "execution_count": 14,
   "metadata": {},
   "outputs": [],
   "source": [
    "from langchain.prompts import ChatPromptTemplate # type: ignore\n",
    "from langchain.schema.runnable import RunnablePassthrough # type: ignore\n",
    "from langchain.schema.output_parser import StrOutputParser # type: ignore"
   ]
  },
  {
   "cell_type": "code",
   "execution_count": 15,
   "metadata": {},
   "outputs": [],
   "source": [
    "prompt = ChatPromptTemplate.from_template(template)"
   ]
  },
  {
   "cell_type": "markdown",
   "metadata": {},
   "source": [
    "setting up rag pipeline"
   ]
  },
  {
   "cell_type": "code",
   "execution_count": 16,
   "metadata": {},
   "outputs": [],
   "source": [
    "chain = (\n",
    "    {\"context\": retriever, \"question\": RunnablePassthrough()}\n",
    "    | prompt | llm | StrOutputParser()\n",
    ")"
   ]
  },
  {
   "cell_type": "code",
   "execution_count": 17,
   "metadata": {},
   "outputs": [
    {
     "data": {
      "text/plain": [
       "\"Low agreeableness refers to a personality trait where an individual exhibits skepticism towards others' intentions, potentially leading to a more competitive or critical demeanor. Individuals with low agreeableness tend to prioritize their own interests over others and might struggle with showing empathy. They can be perceived as tough, critical, and uncompromising, often engaging in more confrontational or competitive interactions. In contrast, a high score in agreeableness indicates a person who is generally compassionate, cooperative, and eager to help others, often even at a personal cost.\""
      ]
     },
     "execution_count": 17,
     "metadata": {},
     "output_type": "execute_result"
    }
   ],
   "source": [
    "chain.invoke('what is low agreeableness')"
   ]
  },
  {
   "cell_type": "code",
   "execution_count": 18,
   "metadata": {},
   "outputs": [],
   "source": [
    "questions = [\n",
    "    \"I don't like people who are emotional.\",\n",
    "    \"I find it hard to open up to others.\",\n",
    "    \"I always need to be doing something productive.\",\n",
    "    \"I prefer sticking to my routines than trying out new things.\",\n",
    "    \"I often feel misunderstood by others.\",\n",
    "    \"I'm always the life of the party, but sometimes it's exhausting.\",\n",
    "    \"I get anxious when plans change last minute.\",\n",
    "    \"I love learning new things, but I rarely finish what I start.\",\n",
    "    \"I don't enjoy socializing much; I prefer my own company.\",\n",
    "    \"I often feel overwhelmed by my emotions.\"\n",
    "]\n",
    "\n",
    "ground_truths = [\n",
    "    \"It's okay to feel that way. We all have different comfort levels with emotions. Would you like to explore ways to understand or cope with this feeling?\",\n",
    "    \"It's completely understandable to find it challenging to open up, especially when you're naturally empathetic yet introspective. Your kindness and thoughtfulness are clear strengths. If you're comfortable, we can explore small, safe steps to gradually share your feelings, ensuring you feel supported and secure throughout.\",\n",
    "    \"Your drive for productivity is admirable, and it's great that you're open to new experiences. Balancing activity with moments of rest can enhance your well-being and creativity. Would you be interested in exploring strategies to integrate meaningful pauses into your routine, ensuring you're recharged and ready for your next adventure?\",\n",
    "    \"Sticking to routines can provide a comforting sense of stability and control. It's okay to prefer the familiar; it's about finding a balance that makes you feel secure and fulfilled. If you're ever curious, we could gently explore small changes within your comfort zone to add a little variety, without overwhelming your sense of order. How does that feel?\",\n",
    "    \"Feeling misunderstood can be really tough, especially when you're open to sharing your thoughts and connecting with others. It's important to recognize your feelings are valid. Together, we can explore ways to express your ideas and emotions in a way that feels authentic to you, while also considering strategies to foster understanding and connection. What are your thoughts on this approach?\",\n",
    "    \"It's wonderful that you bring so much energy and joy to social gatherings. It's also important to listen to your own needs and allow yourself time to recharge. Finding a balance between socializing and personal time can keep your spirits high without feeling overextended. Would you like to explore ways to ensure you're taking care of yourself while still enjoying the social scene?\",\n",
    "    \"It's natural to feel unsettled by sudden changes, especially when you value order and reliability. Let's explore strategies that can help you feel more at ease during unexpected situations, ensuring you have tools to navigate these moments with confidence. How does that sound?\",\n",
    "    \"Your passion for exploring new ideas is wonderful! It's common to find it challenging to stick with one thing when there's so much to discover. Would you be interested in discussing ways to balance your love for learning with techniques to help you complete what you start?\",\n",
    "    \"Preferring your own company is completely okay, and it's important to honor what feels right for you. If you're ever looking for ways to gently expand your comfort zone, without compromising your need for solitude, I'm here to support you. Shall we explore this together?\",\n",
    "    \"Feeling overwhelmed by emotions can be intense. It's courageous to acknowledge these feelings. Together, we can explore grounding techniques and coping strategies that can help you navigate these moments with greater ease. Would you like to start this journey?\"\n",
    "]\n",
    "answer = []\n",
    "content = []"
   ]
  },
  {
   "cell_type": "markdown",
   "metadata": {},
   "source": [
    "inference"
   ]
  },
  {
   "cell_type": "code",
   "execution_count": 19,
   "metadata": {},
   "outputs": [
    {
     "name": "stderr",
     "output_type": "stream",
     "text": [
      "C:\\Users\\Administrator\\AppData\\Local\\Temp\\ipykernel_8428\\1021677130.py:3: LangChainDeprecationWarning: The method `BaseRetriever.get_relevant_documents` was deprecated in langchain-core 0.1.46 and will be removed in 1.0. Use :meth:`~invoke` instead.\n",
      "  content.append([docs.page_content for docs in retriever.get_relevant_documents(query)])\n"
     ]
    }
   ],
   "source": [
    "for query in questions:\n",
    "    answer.append(chain.invoke(query))\n",
    "    content.append([docs.page_content for docs in retriever.get_relevant_documents(query)])"
   ]
  },
  {
   "cell_type": "code",
   "execution_count": 20,
   "metadata": {},
   "outputs": [
    {
     "data": {
      "text/plain": [
       "[\"It sounds like you have a high level of neuroticism, which can make you more sensitive to emotional expressions and potentially overwhelmed by them. Additionally, you mentioned that you struggle to express your emotions openly and often feel disconnected from your emotions. These experiences could be related to a fear of vulnerability or rejection. It's important to remember that emotions are a natural and important part of the human experience. If you're finding it difficult to manage your emotions or are experiencing distress because of them, it might be helpful to speak with a mental health professional. They can provide guidance and support to help you better understand and navigate your emotional experiences.\",\n",
       " \"It's understandable that you find it hard to open up to others, given your high agreeableness, low extraversion, and moderate neuroticism. Your kind and empathetic nature, along with your emotional sensitivity and introverted tendencies, can make it challenging to express your personal emotions. If you're comfortable, we can work together to explore small, safe steps to gradually share your feelings with people you trust, ensuring you feel supported and secure throughout the process. Would you like to discuss strategies to build trust and feel more comfortable sharing your thoughts and feelings?\",\n",
       " \"It sounds like you have a strong drive for productivity and are open to new experiences. While your productivity is commendable, it's essential to find a balance between being productive and taking time for relaxation to prevent burnout. I can help you explore techniques to maintain productivity while also caring for your well-being.\\n\\nAdditionally, if you feel stuck in an unfulfilling routine, we can brainstorm ways to inject more excitement and meaning into your daily life through new hobbies, experiences, or changes to your existing routine.\\n\\nTo enhance your well-being and creativity, we can explore strategies to integrate meaningful pauses into your routine, ensuring you're recharged and ready for your next adventure.\\n\\nLastly, if you're feeling stuck and frustrated, I can help you explore ways to break out of this rut by making small changes in your routine, setting new goals, or cultivating a different perspective on your current situation. Would you like to start by discussing any of these topics in particular?\",\n",
       " \"It's completely understandable that you prefer routines, as they can provide a sense of stability and control. If you're open to it, we can consider introducing small changes to your routine to add variety while still maintaining your comfort. If you ever feel stuck in an unfulfilling routine, we can explore ways to bring more excitement and meaning into your daily life, such as new hobbies or experiences. Additionally, we can discuss strategies to balance your productivity with moments of rest, which can enhance your well-being and creativity. Remember, it's all about finding a balance that makes you feel secure and fulfilled.\",\n",
       " \"Feeling misunderstood can be a challenging and isolating experience, but it's important to remember that your feelings are valid. Given your personality scores, with moderate extraversion and openness, you seem willing to interact and share ideas. However, your high neuroticism and lower agreeableness might contribute to feelings of sensitivity and difficulties in social interactions.\\n\\nTo help you feel less misunderstood, we can focus on finding effective ways to communicate your thoughts and emotions, ensuring others have a better understanding of your perspective. This may involve exploring some communication strategies and learning how to express yourself assertively while also being open to understanding others' perspectives. I'm here to support you in this process. How would you like to proceed?\",\n",
       " 'It sounds like you enjoy socializing and being the center of attention, which is reflected in your high extraversion score. Your openness to new experiences also contributes to this aspect of your personality. However, the moderate levels of neuroticism and conscientiousness suggest that you might experience stress from constantly being \"on\" during social events. It\\'s essential to find a balance between socializing and taking time for yourself to recharge.\\n\\nHere are some strategies you can use to manage your energy levels and find balance in social situations:\\n\\n1. Schedule regular breaks: Make sure to take short breaks during social gatherings to give yourself time to relax and recharge. This can help prevent feelings of overwhelm and exhaustion.\\n2. Create a self-care routine: Develop a self-care routine that includes activities that help you relax and reduce stress. Examples include meditation, yoga, reading, or taking a warm bath.\\n3. Learn to say no: Recognize that it\\'s okay to decline invitations or limit the number of social events you attend. Learn to set boundaries and prioritize your own needs.\\n4. Delegate tasks: Share responsibilities with others during social events. This can help reduce the pressure on you to be the sole organizer or entertainer.\\n5. Practice mindfulness: Stay present and focused on the moment during social events. Try to avoid worrying about what others think or future events.\\n6. Seek support: Talk to a mental health professional if you find it challenging to balance socializing and self-care. They can provide guidance and support to help you manage stress and maintain a healthy lifestyle.\\n\\nRemember that it\\'s essential to prioritize your own well-being while still enjoying the social scene. By implementing these strategies, you can find a balance that allows you to thrive in both social and personal aspects of your life.',\n",
       " \"It sounds like you experience anxiety when plans change last minute due to your preference for structure and predictability, as indicated by your high conscientiousness and neuroticism scores. This is completely understandable, as sudden changes can be challenging and stressful. I'm here to help, and I'd be glad to explore coping strategies with you that can help manage your anxiety during unexpected situations. We can work together to find tools and techniques that will enable you to navigate these moments with confidence. Would you be open to discussing some of these strategies?\",\n",
       " \"It's great to hear about your love for learning new things! As you've noted, you sometimes struggle to finish what you start. This could be related to your personality scores, particularly your high openness and lower conscientiousness. High openness indicates a strong curiosity and love for new experiences, while lower conscientiousness may present challenges in seeing projects through to completion.\\n\\nHere are a few strategies that might help you balance your love for learning with the ability to finish what you start:\\n\\n1. **Set clear, achievable goals**: Break down larger projects into smaller, manageable tasks. This will make it easier to track your progress and stay focused.\\n\\n2. **Create a routine or schedule**: Dedicate specific time slots for learning new things. Having a consistent schedule can help you stay organized and committed to your goals.\\n\\n3. **Reflect on your motivations**: Understanding why you want to learn a particular skill or subject can help you maintain your drive and enthusiasm throughout the process.\\n\\n4. **Practice self-compassion**: It's okay to make mistakes or take breaks. Allow yourself the flexibility to learn at your own pace without being too hard on yourself.\\n\\n5. **Find an accountability partner**: Share your goals with a friend or family member who can provide support and encouragement, as well as hold you accountable for your progress.\\n\\n6. **Reward yourself**: Celebrate your achievements, no matter how small, to reinforce your commitment and maintain your enthusiasm.\\n\\nBy implementing these strategies, you can work on improving your conscientiousness while still nurturing your curiosity and love for learning new things. Would you like to discuss any of these strategies in more detail or explore additional techniques?\",\n",
       " \"It's completely okay to prefer your own company over socializing. This shows a strong inclination towards solitude and introspection, which is reflected in your low extraversion score. Your moderate conscientiousness score suggests that you have a structured approach to your personal time. If you ever feel like exploring ways to gently expand your comfort zone while still respecting your need for solitude, I'm here to help. Remember, it's essential to honor what feels right for you.\",\n",
       " \"Feeling overwhelmed by your emotions is a common experience, especially for individuals with higher neuroticism scores, like yourself. It's important to remember that acknowledging these feelings is a courageous step. I can help by providing grounding techniques and coping strategies to manage these intense emotions. Additionally, we can explore methods to help you regulate your emotions more effectively. Would you like to start with grounding techniques or move on to emotion regulation strategies?\"]"
      ]
     },
     "execution_count": 20,
     "metadata": {},
     "output_type": "execute_result"
    }
   ],
   "source": [
    "answer"
   ]
  },
  {
   "cell_type": "code",
   "execution_count": 21,
   "metadata": {},
   "outputs": [
    {
     "data": {
      "text/plain": [
       "[['User:  \"I don\\'t like people who are emotional.\"\\nPersonality scores:\\nAgreeableness:  0.05\\nExtraversion:  0.02\\nOpenness:  0.02\\nConscientiousness:  0.02\\nNeuroticism:  0.89\\nContext: Given the personality traits, the user may express disdain for emotional people due to their own discomfort with emotions and a preference for more logical or detached interactions. Their high neuroticism could make them more sensitive to emotional expressions, which they might find overwhelming or unnecessary.',\n",
       "  'User: \"I don\\'t like people who are overly emotional.\"\\nPersonality Scores:\\nAgreeableness: 0.05\\nExtraversion: 0.02\\nOpenness: 0.02\\nConscientiousness: 0.02\\nNeuroticism: 0.89\\nContext: Given the personality traits, the user may express disdain for overly emotional people due to their own discomfort with emotions and a preference for more logical or detached interactions. Their high neuroticism could make them more sensitive to emotional expressions, which they might find overwhelming or unnecessary.',\n",
       "  'User: \"I struggle to express my emotions openly.\"\\nPersonality Scores:\\nAgreeableness: 0.65\\nExtraversion: 0.35\\nOpenness: 0.40\\nConscientiousness: 0.60\\nNeuroticism: 0.75\\nContext: The user\\'s moderate levels of agreeableness and conscientiousness, combined with their high neuroticism, may contribute to difficulty in expressing emotions openly, possibly due to fear of vulnerability or rejection.',\n",
       "  'User: \"I often feel like I\\'m disconnected from my emotions.\"\\nPersonality Scores:\\nAgreeableness: 0.65\\nExtraversion: 0.40\\nOpenness: 0.50\\nConscientiousness: 0.60\\nNeuroticism: 0.70\\nContext: The user\\'s moderate agreeableness and conscientiousness, combined with their moderate extraversion and high neuroticism, may contribute to a sense of detachment from their emotions, despite their inclination towards empathy.'],\n",
       " ['Assistant: \"It\\'s completely understandable to find it challenging to open up, especially when you\\'re naturally empathetic yet introspective. Your kindness and thoughtfulness are clear strengths. If you\\'re comfortable, we can explore small, safe steps to gradually share your feelings, ensuring you feel supported and secure throughout.\"',\n",
       "  'Assistant: \"Opening up can be difficult, especially when you\\'re sensitive and thoughtful. It\\'s important to take your time and find people you trust. Would you like to explore strategies to gradually build trust and feel more comfortable sharing your thoughts and feelings?\"',\n",
       "  'User: \"I find it hard to open up to others.\"\\nPersonality Scores:\\nAgreeableness: 0.70\\nExtraversion: 0.15\\nOpenness: 0.40\\nConscientiousness: 0.85\\nNeuroticism: 0.60\\nContext: The user\\'s high agreeableness suggests they are generally kind and empathetic, yet their low extraversion and moderate neuroticism indicate a tendency towards introversion and emotional sensitivity, possibly leading to difficulties in expressing personal emotions openly.',\n",
       "  'User: \"I find it challenging to open up to others.\"\\nPersonality Scores:\\nAgreeableness: 0.70\\nExtraversion: 0.15\\nOpenness: 0.40\\nConscientiousness: 0.85\\nNeuroticism: 0.60\\nContext: The user\\'s high agreeableness suggests they are generally kind and empathetic, yet their low extraversion and moderate neuroticism indicate a tendency towards introversion and emotional sensitivity, possibly leading to difficulties in expressing personal emotions openly.'],\n",
       " ['Assistant: \"Your drive for productivity is commendable, and your openness to new experiences is refreshing. It\\'s important to find a balance between productivity and relaxation to avoid burnout. Would you be interested in exploring techniques to maintain productivity while also taking care of your well-being?\"',\n",
       "  'Assistant: \"Feeling stuck in an unfulfilling routine can be draining. Let\\'s explore ways to inject more excitement and meaning into your daily life, whether through new hobbies, experiences, or changes to your existing routine. Would you like to brainstorm some ideas together?\"',\n",
       "  'Assistant: \"Your drive for productivity is admirable, and it\\'s great that you\\'re open to new experiences. Balancing activity with moments of rest can enhance your well-being and creativity. Would you be interested in exploring strategies to integrate meaningful pauses into your routine, ensuring you\\'re recharged and ready for your next adventure?\"',\n",
       "  'Assistant: \"Feeling stuck can be frustrating. Let\\'s explore ways to break out of this rut, whether it\\'s through small changes in routine, setting new goals, or cultivating a different perspective on your current situation. Would you like to brainstorm some ideas together?\"'],\n",
       " ['Assistant: \"Routines provide stability, but stepping out of your comfort zone can also lead to growth and new experiences. Would you be interested in exploring small changes to your routine that could introduce some variety without causing too much disruption?\"',\n",
       "  'Assistant: \"Sticking to routines can provide a comforting sense of stability and control. It\\'s okay to prefer the familiar; it\\'s about finding a balance that makes you feel secure and fulfilled. If you\\'re ever curious, we could gently explore small changes within your comfort zone to add a little variety, without overwhelming your sense of order. How does that feel?\"',\n",
       "  'Assistant: \"Feeling stuck in an unfulfilling routine can be draining. Let\\'s explore ways to inject more excitement and meaning into your daily life, whether through new hobbies, experiences, or changes to your existing routine. Would you like to brainstorm some ideas together?\"',\n",
       "  'Assistant: \"Your drive for productivity is admirable, and it\\'s great that you\\'re open to new experiences. Balancing activity with moments of rest can enhance your well-being and creativity. Would you be interested in exploring strategies to integrate meaningful pauses into your routine, ensuring you\\'re recharged and ready for your next adventure?\"'],\n",
       " ['Assistant: \"Feeling misunderstood can be really tough, especially when you\\'re open to sharing your thoughts and connecting with others. It\\'s important to recognize your feelings are valid. Together, we can explore ways to express your ideas and emotions in a way that feels authentic to you, while also considering strategies to foster understanding and connection. What are your thoughts on this approach?\"',\n",
       "  'Assistant: \"Feeling misunderstood can be isolating. It might help to communicate your thoughts and feelings more clearly with others. Would you like to explore ways to express yourself assertively while also being open to understanding others\\' perspectives?\"',\n",
       "  'Assistant: \"Feeling misunderstood can be isolating. Let\\'s work on finding effective ways to communicate your thoughts and emotions, ensuring others have a better understanding of your perspective. Would you like to explore some communication strategies?\"',\n",
       "  'User: \"I often feel misunderstood by others.\"\\nPersonality Scores\\nAgreeableness: 0.40\\nExtraversion: 0.50\\nOpenness: 0.65\\nConscientiousness: 0.45\\nNeuroticism: 0.75\\nContext: The user\\'s moderate levels of extraversion and openness suggest a willingness to interact and share ideas, yet their high neuroticism and lower agreeableness might lead to sensitivity and challenges in social interactions, feeling misunderstood.'],\n",
       " ['User: \"I\\'m always the life of the party, but sometimes it\\'s exhausting.\"\\nPersonality Scores:\\nAgreeableness: 0.60\\nExtraversion: 0.95\\nOpenness: 0.70\\nConscientiousness: 0.50\\nNeuroticism: 0.35\\nContext: The user\\'s high extraversion indicates they are sociable and energetic, enjoying being around others, while their openness suggests a receptiveness to new experiences. However, the moderate level of neuroticism and conscientiousness might hint at underlying stress from constantly being \\'on.\\'',\n",
       "  'User: \"I\\'m always the life of the party, but sometimes it\\'s exhausting.\"\\nPersonality Scores\\nAgreeableness: 0.60\\nExtraversion: 0.95\\nOpenness: 0.70\\nConscientiousness: 0.50\\nNeuroticism: 0.35\\nContext: The user\\'s high extraversion indicates they are sociable and energetic, enjoying being around others, while their openness suggests a receptiveness to new experiences. However, the moderate level of neuroticism and conscientiousness might hint at underlying stress from constantly being \\'on.\\'',\n",
       "  'Assistant: \"Being the life of the party can be energizing, but it\\'s important to take breaks and recharge. Would you like to discuss strategies for managing your energy levels and finding balance in social situations?\"',\n",
       "  'Assistant: \"It\\'s wonderful that you bring so much energy and joy to social gatherings. It\\'s also important to listen to your own needs and allow yourself time to recharge. Finding a balance between socializing and personal time can keep your spirits high without feeling overextended. Would you like to explore ways to ensure you\\'re taking care of yourself while still enjoying the social scene?\"'],\n",
       " ['User: \"I get anxious when plans change last minute.\"\\nPersonality Scores:\\nAgreeableness: 0.75\\nExtraversion: 0.30\\nOpenness: 0.40\\nConscientiousness: 0.90\\nNeuroticism: 0.80\\nContext: The user\\'s high conscientiousness and neuroticism suggest a preference for structure and predictability, with a significant sensitivity to stress and anxiety when faced with unexpected changes.',\n",
       "  'User: \"I get anxious when plans change last minute.\"\\nPersonality Scores\\nAgreeableness: 0.75\\nExtraversion: 0.30\\nOpenness: 0.40\\nConscientiousness: 0.90\\nNeuroticism: 0.80\\nContext: The user\\'s high conscientiousness and neuroticism suggest a preference for structure and predictability, with a significant sensitivity to stress and anxiety when faced with unexpected changes.',\n",
       "  'Assistant: \"Dealing with sudden changes can be challenging, especially when you prefer structure. Would you like to explore coping strategies to help manage your anxiety in these situations?\"',\n",
       "  'Assistant: \"It\\'s natural to feel unsettled by sudden changes, especially when you value order and reliability. Let\\'s explore strategies that can help you feel more at ease during unexpected situations, ensuring you have tools to navigate these moments with confidence. How does that sound?\"'],\n",
       " ['Assistant: \"Your passion for exploring new ideas is wonderful! It\\'s common to find it challenging to stick with one thing when there\\'s so much to discover. Would you be interested in discussing ways to balance your love for learning with techniques to help you complete what you start?\"',\n",
       "  'Assistant: \"Feeling like you\\'re not learning as much as you could can be a common concern, especially when you have a thirst for knowledge. Let\\'s explore ways to expand your learning opportunities and challenge yourself intellectually. Would you like to discuss specific areas of interest or potential learning resources?\"',\n",
       "  'User: \"I love learning new things, but I rarely finish what I start.\"\\nPersonality Scores:\\nAgreeableness: 0.60\\nExtraversion: 0.70\\nOpenness: 0.95\\nConscientiousness: 0.25\\nNeuroticism: 0.40\\nContext: The user\\'s high openness reflects a strong curiosity and love for new experiences, but their low conscientiousness may lead to challenges in seeing projects through to completion.',\n",
       "  'Assistant: \"Feeling stuck in an unfulfilling routine can be draining. Let\\'s explore ways to inject more excitement and meaning into your daily life, whether through new hobbies, experiences, or changes to your existing routine. Would you like to brainstorm some ideas together?\"'],\n",
       " ['Assistant: \"It\\'s wonderful that you bring so much energy and joy to social gatherings. It\\'s also important to listen to your own needs and allow yourself time to recharge. Finding a balance between socializing and personal time can keep your spirits high without feeling overextended. Would you like to explore ways to ensure you\\'re taking care of yourself while still enjoying the social scene?\"',\n",
       "  'User: \"I don\\'t enjoy socializing much; I prefer my own company.\"\\nPersonality Scores:\\nAgreeableness: 0.50\\nExtraversion: 0.10\\nOpenness: 0.55\\nConscientiousness: 0.70\\nNeuroticism: 0.45\\nContext: The user\\'s low extraversion suggests a strong preference for solitude and introspection over social activities, while moderate conscientiousness indicates a structured approach to their personal time.',\n",
       "  'User: \"I don\\'t enjoy socializing much; I prefer my own company.\"\\nPersonality Scores\\nAgreeableness: 0.50\\nExtraversion: 0.10\\nOpenness: 0.55\\nConscientiousness: 0.70\\nNeuroticism: 0.45\\nContext: The user\\'s low extraversion suggests a strong preference for solitude and introspection over social activities, while moderate conscientiousness indicates a structured approach to their personal time.',\n",
       "  'Assistant: \"Preferring your own company is completely okay, and it\\'s important to honor what feels right for you. If you\\'re ever looking for ways to gently expand your comfort zone, without compromising your need for solitude, I\\'m here to support you. Shall we explore this together?\"'],\n",
       " ['Assistant: \"Feeling overwhelmed by emotions can be intense. It\\'s courageous to acknowledge these feelings. Together, we can explore grounding techniques and coping strategies that can help you navigate these moments with greater ease. Would you like to start this journey?\"',\n",
       "  'Assistant: \"Feeling overwhelmed by emotions can be challenging. Would you like to explore techniques to help you manage and regulate your emotions more effectively?\"',\n",
       "  'Assistant: \"Feeling overwhelmed in social situations is understandable, especially when balancing your desire for social interaction with potential stressors. Let\\'s explore techniques to manage social anxiety and build confidence in various social settings. Would you like to discuss specific scenarios where you often feel overwhelmed?\"',\n",
       "  'User: \"I often feel overwhelmed by my emotions.\"\\nPersonality Scores:\\nAgreeableness: 0.65\\nExtraversion: 0.55\\nOpenness: 0.60\\nConscientiousness: 0.40\\nNeuroticism: 0.90\\nContext: The user\\'s high neuroticism indicates a propensity towards emotional sensitivity, which can lead to feelings of being overwhelmed, despite having moderate levels of openness and agreeableness.']]"
      ]
     },
     "execution_count": 21,
     "metadata": {},
     "output_type": "execute_result"
    }
   ],
   "source": [
    "content"
   ]
  },
  {
   "cell_type": "markdown",
   "metadata": {},
   "source": [
    "### Please Go Ragas Documentation for more information\n",
    "\n",
    "Metrics : https://docs.ragas.io/en/stable/concepts/metrics/available_metrics/?h=metrics\n",
    "\n",
    "\n",
    "For example context precision we required input (query),response and retrieved_contexts \n",
    "\n",
    "check more detail here\n",
    "\n",
    "[Context_precision](https://docs.ragas.io/en/stable/concepts/metrics/available_metrics/context_precision/)\n",
    "\n",
    "\n",
    "same apply to other metrics , check what is needed to calculate perticular metrics and how it calculated"
   ]
  },
  {
   "cell_type": "code",
   "execution_count": 22,
   "metadata": {},
   "outputs": [],
   "source": [
    "data = {\n",
    "    \"question\": questions,\n",
    "    #\"ground_truths\": ground_truths, \n",
    "    \"answer\": answer,\n",
    "    #\"context\": content,\n",
    "    \"retrieved_contexts\" : content, # retrive context that is content is stored as retrieved_contexts to calulate matrics\n",
    "    \"reference\": ground_truths # ground truth is stored as referene as ragas use this key to calculate metrics \n",
    "}"
   ]
  },
  {
   "cell_type": "code",
   "execution_count": 23,
   "metadata": {},
   "outputs": [],
   "source": [
    "from datasets import Dataset # type: ignore\n",
    "dataset = Dataset.from_dict(data)"
   ]
  },
  {
   "cell_type": "code",
   "execution_count": 24,
   "metadata": {},
   "outputs": [
    {
     "data": {
      "text/plain": [
       "Dataset({\n",
       "    features: ['question', 'answer', 'retrieved_contexts', 'reference'],\n",
       "    num_rows: 10\n",
       "})"
      ]
     },
     "execution_count": 24,
     "metadata": {},
     "output_type": "execute_result"
    }
   ],
   "source": [
    "dataset"
   ]
  },
  {
   "cell_type": "code",
   "execution_count": 25,
   "metadata": {},
   "outputs": [],
   "source": [
    "from ragas import evaluate # type: ignore\n",
    "\n",
    "from ragas.metrics import ( # type: ignore\n",
    "    faithfulness,\n",
    "    answer_relevancy,\n",
    "    context_recall,\n",
    "    context_precision,\n",
    "    answer_correctness\n",
    ")\n"
   ]
  },
  {
   "cell_type": "code",
   "execution_count": 26,
   "metadata": {},
   "outputs": [
    {
     "name": "stderr",
     "output_type": "stream",
     "text": [
      "Evaluating: 100%|██████████| 40/40 [21:44<00:00, 32.62s/it]\n"
     ]
    }
   ],
   "source": [
    "results = evaluate(dataset=dataset,\n",
    "                   metrics=[faithfulness,answer_relevancy,context_recall,context_precision],\n",
    "                   embeddings=embeddings_model, # type: ignore\n",
    "                   llm = llm,\n",
    "                   batch_size = 2)\n"
   ]
  },
  {
   "cell_type": "code",
   "execution_count": 27,
   "metadata": {},
   "outputs": [
    {
     "data": {
      "text/plain": [
       "{'faithfulness': 0.7819, 'answer_relevancy': 0.4626, 'context_recall': 0.7314, 'context_precision': 0.9806}"
      ]
     },
     "execution_count": 27,
     "metadata": {},
     "output_type": "execute_result"
    }
   ],
   "source": [
    "results"
   ]
  },
  {
   "cell_type": "code",
   "execution_count": null,
   "metadata": {},
   "outputs": [],
   "source": []
  }
 ],
 "metadata": {
  "kernelspec": {
   "display_name": "venv",
   "language": "python",
   "name": "python3"
  },
  "language_info": {
   "codemirror_mode": {
    "name": "ipython",
    "version": 3
   },
   "file_extension": ".py",
   "mimetype": "text/x-python",
   "name": "python",
   "nbconvert_exporter": "python",
   "pygments_lexer": "ipython3",
   "version": "3.11.11"
  }
 },
 "nbformat": 4,
 "nbformat_minor": 2
}
